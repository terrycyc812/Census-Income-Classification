{
 "cells": [
  {
   "cell_type": "code",
   "execution_count": 1,
   "metadata": {},
   "outputs": [],
   "source": [
    "import pandas as pd\n",
    "import matplotlib.pyplot as plt\n",
    "import seaborn as sns\n",
    "%matplotlib inline\n",
    "import numpy as np\n",
    "from sklearn.preprocessing import StandardScaler\n",
    "from sklearn.model_selection import train_test_split, GridSearchCV\n",
    "from sklearn.linear_model import LogisticRegression\n",
    "from sklearn.neighbors import KNeighborsClassifier\n",
    "from sklearn.ensemble import RandomForestClassifier, AdaBoostClassifier\n",
    "from xgboost import XGBClassifier\n",
    "from sklearn.metrics import classification_report, confusion_matrix, accuracy_score, f1_score, roc_curve, roc_auc_score\n",
    "import time"
   ]
  },
  {
   "cell_type": "markdown",
   "metadata": {},
   "source": [
    "## Feature pre-processing"
   ]
  },
  {
   "cell_type": "code",
   "execution_count": 2,
   "metadata": {},
   "outputs": [
    {
     "data": {
      "text/html": [
       "<div>\n",
       "<style scoped>\n",
       "    .dataframe tbody tr th:only-of-type {\n",
       "        vertical-align: middle;\n",
       "    }\n",
       "\n",
       "    .dataframe tbody tr th {\n",
       "        vertical-align: top;\n",
       "    }\n",
       "\n",
       "    .dataframe thead th {\n",
       "        text-align: right;\n",
       "    }\n",
       "</style>\n",
       "<table border=\"1\" class=\"dataframe\">\n",
       "  <thead>\n",
       "    <tr style=\"text-align: right;\">\n",
       "      <th></th>\n",
       "      <th>age</th>\n",
       "      <th>workclass</th>\n",
       "      <th>education_num</th>\n",
       "      <th>marital_status</th>\n",
       "      <th>occupation</th>\n",
       "      <th>race</th>\n",
       "      <th>sex</th>\n",
       "      <th>hours_per_week</th>\n",
       "      <th>native_country</th>\n",
       "      <th>target</th>\n",
       "    </tr>\n",
       "  </thead>\n",
       "  <tbody>\n",
       "    <tr>\n",
       "      <th>0</th>\n",
       "      <td>39</td>\n",
       "      <td>State-gov</td>\n",
       "      <td>13</td>\n",
       "      <td>Never-married</td>\n",
       "      <td>Adm-clerical</td>\n",
       "      <td>White</td>\n",
       "      <td>Male</td>\n",
       "      <td>40</td>\n",
       "      <td>US</td>\n",
       "      <td>&lt;=50K</td>\n",
       "    </tr>\n",
       "    <tr>\n",
       "      <th>1</th>\n",
       "      <td>50</td>\n",
       "      <td>Self-emp-not-inc</td>\n",
       "      <td>13</td>\n",
       "      <td>Married-civ-spouse</td>\n",
       "      <td>Exec-managerial</td>\n",
       "      <td>White</td>\n",
       "      <td>Male</td>\n",
       "      <td>13</td>\n",
       "      <td>US</td>\n",
       "      <td>&lt;=50K</td>\n",
       "    </tr>\n",
       "    <tr>\n",
       "      <th>2</th>\n",
       "      <td>38</td>\n",
       "      <td>Private</td>\n",
       "      <td>9</td>\n",
       "      <td>Divorced</td>\n",
       "      <td>Handlers-cleaners</td>\n",
       "      <td>White</td>\n",
       "      <td>Male</td>\n",
       "      <td>40</td>\n",
       "      <td>US</td>\n",
       "      <td>&lt;=50K</td>\n",
       "    </tr>\n",
       "    <tr>\n",
       "      <th>3</th>\n",
       "      <td>53</td>\n",
       "      <td>Private</td>\n",
       "      <td>7</td>\n",
       "      <td>Married-civ-spouse</td>\n",
       "      <td>Handlers-cleaners</td>\n",
       "      <td>Black</td>\n",
       "      <td>Male</td>\n",
       "      <td>40</td>\n",
       "      <td>US</td>\n",
       "      <td>&lt;=50K</td>\n",
       "    </tr>\n",
       "    <tr>\n",
       "      <th>4</th>\n",
       "      <td>28</td>\n",
       "      <td>Private</td>\n",
       "      <td>13</td>\n",
       "      <td>Married-civ-spouse</td>\n",
       "      <td>Prof-specialty</td>\n",
       "      <td>Black</td>\n",
       "      <td>Female</td>\n",
       "      <td>40</td>\n",
       "      <td>Other_Americans</td>\n",
       "      <td>&lt;=50K</td>\n",
       "    </tr>\n",
       "  </tbody>\n",
       "</table>\n",
       "</div>"
      ],
      "text/plain": [
       "   age         workclass  education_num      marital_status  \\\n",
       "0   39         State-gov             13       Never-married   \n",
       "1   50  Self-emp-not-inc             13  Married-civ-spouse   \n",
       "2   38           Private              9            Divorced   \n",
       "3   53           Private              7  Married-civ-spouse   \n",
       "4   28           Private             13  Married-civ-spouse   \n",
       "\n",
       "          occupation    race      sex  hours_per_week   native_country  target  \n",
       "0       Adm-clerical   White     Male              40               US   <=50K  \n",
       "1    Exec-managerial   White     Male              13               US   <=50K  \n",
       "2  Handlers-cleaners   White     Male              40               US   <=50K  \n",
       "3  Handlers-cleaners   Black     Male              40               US   <=50K  \n",
       "4     Prof-specialty   Black   Female              40  Other_Americans   <=50K  "
      ]
     },
     "execution_count": 2,
     "metadata": {},
     "output_type": "execute_result"
    }
   ],
   "source": [
    "# Load the cleaned dataset\n",
    "df = pd.read_csv('cleaned_df.csv', index_col=0)\n",
    "df.head()"
   ]
  },
  {
   "cell_type": "code",
   "execution_count": 4,
   "metadata": {},
   "outputs": [
    {
     "data": {
      "image/png": "[encoded data removed]",
      "text/plain": [
       "<Figure size 432x288 with 1 Axes>"
      ]
     },
     "metadata": {
      "needs_background": "light"
     },
     "output_type": "display_data"
    }
   ],
   "source": [
    "sns.countplot(x=df['target'])\n",
    "plt.title('Count of two target outcomes')\n",
    "plt.show()"
   ]
  },
  {
   "cell_type": "code",
   "execution_count": 5,
   "metadata": {},
   "outputs": [],
   "source": [
    "# Convert the categorical variables into numbers\n",
    "df['sex'] = df['sex'].map({' Male':0, ' Female':1})\n",
    "df['target'] = df['target'].map({' <=50K':0, ' >50K':1})\n",
    "df = pd.get_dummies(df, drop_first=True)"
   ]
  },
  {
   "cell_type": "code",
   "execution_count": 6,
   "metadata": {},
   "outputs": [
    {
     "data": {
      "text/html": [
       "<div>\n",
       "<style scoped>\n",
       "    .dataframe tbody tr th:only-of-type {\n",
       "        vertical-align: middle;\n",
       "    }\n",
       "\n",
       "    .dataframe tbody tr th {\n",
       "        vertical-align: top;\n",
       "    }\n",
       "\n",
       "    .dataframe thead th {\n",
       "        text-align: right;\n",
       "    }\n",
       "</style>\n",
       "<table border=\"1\" class=\"dataframe\">\n",
       "  <thead>\n",
       "    <tr style=\"text-align: right;\">\n",
       "      <th></th>\n",
       "      <th>age</th>\n",
       "      <th>education_num</th>\n",
       "      <th>sex</th>\n",
       "      <th>hours_per_week</th>\n",
       "      <th>target</th>\n",
       "      <th>workclass_Local-gov</th>\n",
       "      <th>workclass_Private</th>\n",
       "      <th>workclass_Self-emp-inc</th>\n",
       "      <th>workclass_Self-emp-not-inc</th>\n",
       "      <th>workclass_State-gov</th>\n",
       "      <th>...</th>\n",
       "      <th>occupation_Sales</th>\n",
       "      <th>occupation_Tech-support</th>\n",
       "      <th>occupation_Transport-moving</th>\n",
       "      <th>race_ Asian-Pac-Islander</th>\n",
       "      <th>race_ Black</th>\n",
       "      <th>race_ Other</th>\n",
       "      <th>race_ White</th>\n",
       "      <th>native_country_EU</th>\n",
       "      <th>native_country_Other_Americans</th>\n",
       "      <th>native_country_US</th>\n",
       "    </tr>\n",
       "  </thead>\n",
       "  <tbody>\n",
       "    <tr>\n",
       "      <th>0</th>\n",
       "      <td>39</td>\n",
       "      <td>13</td>\n",
       "      <td>0</td>\n",
       "      <td>40</td>\n",
       "      <td>0</td>\n",
       "      <td>0</td>\n",
       "      <td>0</td>\n",
       "      <td>0</td>\n",
       "      <td>0</td>\n",
       "      <td>1</td>\n",
       "      <td>...</td>\n",
       "      <td>0</td>\n",
       "      <td>0</td>\n",
       "      <td>0</td>\n",
       "      <td>0</td>\n",
       "      <td>0</td>\n",
       "      <td>0</td>\n",
       "      <td>1</td>\n",
       "      <td>0</td>\n",
       "      <td>0</td>\n",
       "      <td>1</td>\n",
       "    </tr>\n",
       "    <tr>\n",
       "      <th>1</th>\n",
       "      <td>50</td>\n",
       "      <td>13</td>\n",
       "      <td>0</td>\n",
       "      <td>13</td>\n",
       "      <td>0</td>\n",
       "      <td>0</td>\n",
       "      <td>0</td>\n",
       "      <td>0</td>\n",
       "      <td>1</td>\n",
       "      <td>0</td>\n",
       "      <td>...</td>\n",
       "      <td>0</td>\n",
       "      <td>0</td>\n",
       "      <td>0</td>\n",
       "      <td>0</td>\n",
       "      <td>0</td>\n",
       "      <td>0</td>\n",
       "      <td>1</td>\n",
       "      <td>0</td>\n",
       "      <td>0</td>\n",
       "      <td>1</td>\n",
       "    </tr>\n",
       "    <tr>\n",
       "      <th>2</th>\n",
       "      <td>38</td>\n",
       "      <td>9</td>\n",
       "      <td>0</td>\n",
       "      <td>40</td>\n",
       "      <td>0</td>\n",
       "      <td>0</td>\n",
       "      <td>1</td>\n",
       "      <td>0</td>\n",
       "      <td>0</td>\n",
       "      <td>0</td>\n",
       "      <td>...</td>\n",
       "      <td>0</td>\n",
       "      <td>0</td>\n",
       "      <td>0</td>\n",
       "      <td>0</td>\n",
       "      <td>0</td>\n",
       "      <td>0</td>\n",
       "      <td>1</td>\n",
       "      <td>0</td>\n",
       "      <td>0</td>\n",
       "      <td>1</td>\n",
       "    </tr>\n",
       "    <tr>\n",
       "      <th>3</th>\n",
       "      <td>53</td>\n",
       "      <td>7</td>\n",
       "      <td>0</td>\n",
       "      <td>40</td>\n",
       "      <td>0</td>\n",
       "      <td>0</td>\n",
       "      <td>1</td>\n",
       "      <td>0</td>\n",
       "      <td>0</td>\n",
       "      <td>0</td>\n",
       "      <td>...</td>\n",
       "      <td>0</td>\n",
       "      <td>0</td>\n",
       "      <td>0</td>\n",
       "      <td>0</td>\n",
       "      <td>1</td>\n",
       "      <td>0</td>\n",
       "      <td>0</td>\n",
       "      <td>0</td>\n",
       "      <td>0</td>\n",
       "      <td>1</td>\n",
       "    </tr>\n",
       "    <tr>\n",
       "      <th>4</th>\n",
       "      <td>28</td>\n",
       "      <td>13</td>\n",
       "      <td>1</td>\n",
       "      <td>40</td>\n",
       "      <td>0</td>\n",
       "      <td>0</td>\n",
       "      <td>1</td>\n",
       "      <td>0</td>\n",
       "      <td>0</td>\n",
       "      <td>0</td>\n",
       "      <td>...</td>\n",
       "      <td>0</td>\n",
       "      <td>0</td>\n",
       "      <td>0</td>\n",
       "      <td>0</td>\n",
       "      <td>1</td>\n",
       "      <td>0</td>\n",
       "      <td>0</td>\n",
       "      <td>0</td>\n",
       "      <td>1</td>\n",
       "      <td>0</td>\n",
       "    </tr>\n",
       "  </tbody>\n",
       "</table>\n",
       "<p>5 rows × 37 columns</p>\n",
       "</div>"
      ],
      "text/plain": [
       "   age  education_num  sex  hours_per_week  target  workclass_Local-gov  \\\n",
       "0   39             13    0              40       0                    0   \n",
       "1   50             13    0              13       0                    0   \n",
       "2   38              9    0              40       0                    0   \n",
       "3   53              7    0              40       0                    0   \n",
       "4   28             13    1              40       0                    0   \n",
       "\n",
       "   workclass_Private  workclass_Self-emp-inc  workclass_Self-emp-not-inc  \\\n",
       "0                  0                       0                           0   \n",
       "1                  0                       0                           1   \n",
       "2                  1                       0                           0   \n",
       "3                  1                       0                           0   \n",
       "4                  1                       0                           0   \n",
       "\n",
       "   workclass_State-gov  ...  occupation_Sales  occupation_Tech-support  \\\n",
       "0                    1  ...                 0                        0   \n",
       "1                    0  ...                 0                        0   \n",
       "2                    0  ...                 0                        0   \n",
       "3                    0  ...                 0                        0   \n",
       "4                    0  ...                 0                        0   \n",
       "\n",
       "   occupation_Transport-moving  race_ Asian-Pac-Islander  race_ Black  \\\n",
       "0                            0                         0            0   \n",
       "1                            0                         0            0   \n",
       "2                            0                         0            0   \n",
       "3                            0                         0            1   \n",
       "4                            0                         0            1   \n",
       "\n",
       "   race_ Other  race_ White  native_country_EU  \\\n",
       "0            0            1                  0   \n",
       "1            0            1                  0   \n",
       "2            0            1                  0   \n",
       "3            0            0                  0   \n",
       "4            0            0                  0   \n",
       "\n",
       "   native_country_Other_Americans  native_country_US  \n",
       "0                               0                  1  \n",
       "1                               0                  1  \n",
       "2                               0                  1  \n",
       "3                               0                  1  \n",
       "4                               1                  0  \n",
       "\n",
       "[5 rows x 37 columns]"
      ]
     },
     "execution_count": 6,
     "metadata": {},
     "output_type": "execute_result"
    }
   ],
   "source": [
    "df.head()"
   ]
  },
  {
   "cell_type": "code",
   "execution_count": 7,
   "metadata": {},
   "outputs": [],
   "source": [
    "# Assign the target/feature\n",
    "# Split into training set and testing set\n",
    "X = df.drop('target', axis=1)\n",
    "y = df['target']\n",
    "X_train, X_test, y_train, y_test = train_test_split(X, y, test_size=0.2, random_state=42)"
   ]
  },
  {
   "cell_type": "code",
   "execution_count": 8,
   "metadata": {},
   "outputs": [],
   "source": [
    "# Scaling the features\n",
    "scaler = StandardScaler()\n",
    "X_train_scaled = scaler.fit_transform(X_train)\n",
    "X_test_scaled = scaler.transform(X_test)"
   ]
  },
  {
   "cell_type": "markdown",
   "metadata": {},
   "source": [
    "## Model building"
   ]
  },
  {
   "cell_type": "code",
   "execution_count": 9,
   "metadata": {},
   "outputs": [],
   "source": [
    "# Create a function to evaluate the model performance later. \n",
    "def class_metrics(model, x_data, y_data):\n",
    "    y_pred = model.predict(x_data)\n",
    "    print(classification_report(y_data, y_pred, target_names=['<=50K', '>50K']), end='\\n')\n",
    "    \n",
    "    tn,fp,fn,tp = confusion_matrix(y_data, y_pred).ravel()\n",
    "    print(pd.DataFrame({'Actual <=50K':[tn,fp], 'Actual >50K':[fn,tp]}, \n",
    "                       index=['Predict <=50K', 'Predict >50K'])/len(x_data))"
   ]
  },
  {
   "cell_type": "markdown",
   "metadata": {},
   "source": [
    "### Logistic Regression"
   ]
  },
  {
   "cell_type": "code",
   "execution_count": 77,
   "metadata": {},
   "outputs": [
    {
     "name": "stdout",
     "output_type": "stream",
     "text": [
      "Training performance:\n",
      "              precision    recall  f1-score   support\n",
      "\n",
      "       <=50K       0.93      0.77      0.85     18148\n",
      "        >50K       0.55      0.83      0.66      5963\n",
      "\n",
      "    accuracy                           0.79     24111\n",
      "   macro avg       0.74      0.80      0.75     24111\n",
      "weighted avg       0.84      0.79      0.80     24111\n",
      "\n",
      "               Actual <=50K  Actual >50K\n",
      "Predict <=50K      0.583302     0.041973\n",
      "Predict >50K       0.169383     0.205342\n",
      "\n",
      "\n",
      "Testing performance:\n",
      "              precision    recall  f1-score   support\n",
      "\n",
      "       <=50K       0.93      0.78      0.85      4485\n",
      "        >50K       0.57      0.83      0.67      1543\n",
      "\n",
      "    accuracy                           0.79      6028\n",
      "   macro avg       0.75      0.81      0.76      6028\n",
      "weighted avg       0.84      0.79      0.80      6028\n",
      "\n",
      "               Actual <=50K  Actual >50K\n",
      "Predict <=50K      0.581785     0.043962\n",
      "Predict >50K       0.162243     0.212011\n",
      "\n",
      "\n",
      "Time spent: 0.15s\n"
     ]
    }
   ],
   "source": [
    "# Training by default setting\n",
    "log = LogisticRegression(class_weight='balanced')\n",
    "\n",
    "t1 = time.time()\n",
    "log.fit(X_train_scaled, y_train)\n",
    "\n",
    "print('Training performance:')\n",
    "class_metrics(log, X_train_scaled, y_train)\n",
    "\n",
    "print('\\n\\nTesting performance:')\n",
    "class_metrics(log, X_test_scaled, y_test)\n",
    "t2 = time.time()\n",
    "\n",
    "print('\\n')\n",
    "print(f'Time spent: {round(t2-t1, 2)}s')"
   ]
  },
  {
   "cell_type": "code",
   "execution_count": 78,
   "metadata": {},
   "outputs": [
    {
     "name": "stdout",
     "output_type": "stream",
     "text": [
      "Fitting 10 folds for each of 6 candidates, totalling 60 fits\n",
      "[Parallel(n_jobs=-1)]: Using backend LokyBackend with 8 concurrent workers.\n",
      "[Parallel(n_jobs=-1)]: Done  16 tasks      | elapsed:    3.5s\n",
      "[Parallel(n_jobs=-1)]: Done  60 out of  60 | elapsed:    4.9s finished\n",
      "Best parameter: {'C': 0.6}\n",
      "Best f1 score: 0.6587815260302035\n"
     ]
    }
   ],
   "source": [
    "# Hyperparameter tuning\n",
    "params = {'C': [0, 0.2, 0.4, 0.6, 0.8, 1.0]}\n",
    "grid = GridSearchCV(estimator=log, param_grid = params, scoring='f1', n_jobs=-1, cv=10, verbose=3)\n",
    "grid.fit(X_train_scaled, y_train)\n",
    "print(f'Best parameter: {grid.best_params_}')\n",
    "print(f'Best f1 score: {grid.best_score_}')"
   ]
  },
  {
   "cell_type": "code",
   "execution_count": 36,
   "metadata": {},
   "outputs": [
    {
     "name": "stdout",
     "output_type": "stream",
     "text": [
      "Training performance:\n",
      "              precision    recall  f1-score   support\n",
      "\n",
      "       <=50K       0.93      0.77      0.85     18148\n",
      "        >50K       0.55      0.83      0.66      5963\n",
      "\n",
      "    accuracy                           0.79     24111\n",
      "   macro avg       0.74      0.80      0.75     24111\n",
      "weighted avg       0.84      0.79      0.80     24111\n",
      "\n",
      "               Actual <=50K  Actual >50K\n",
      "Predict <=50K      0.583302     0.041973\n",
      "Predict >50K       0.169383     0.205342\n",
      "\n",
      "\n",
      "Testing performance:\n",
      "              precision    recall  f1-score   support\n",
      "\n",
      "       <=50K       0.93      0.78      0.85      4485\n",
      "        >50K       0.57      0.83      0.67      1543\n",
      "\n",
      "    accuracy                           0.79      6028\n",
      "   macro avg       0.75      0.81      0.76      6028\n",
      "weighted avg       0.84      0.79      0.80      6028\n",
      "\n",
      "               Actual <=50K  Actual >50K\n",
      "Predict <=50K      0.581785     0.043962\n",
      "Predict >50K       0.162243     0.212011\n",
      "\n",
      "\n",
      "Time spent: 0.2s\n"
     ]
    }
   ],
   "source": [
    "# Training by best parameter\n",
    "log = LogisticRegression(C=0.6, class_weight='balanced')\n",
    "\n",
    "t1 = time.time()\n",
    "log.fit(X_train_scaled, y_train)\n",
    "\n",
    "print('Training performance:')\n",
    "class_metrics(log, X_train_scaled, y_train)\n",
    "\n",
    "print('\\n\\nTesting performance:')\n",
    "class_metrics(log, X_test_scaled, y_test)\n",
    "t2 = time.time()\n",
    "\n",
    "print('\\n')\n",
    "print(f'Time spent: {round(t2-t1, 2)}s')"
   ]
  },
  {
   "cell_type": "markdown",
   "metadata": {},
   "source": [
    "### KNN"
   ]
  },
  {
   "cell_type": "code",
   "execution_count": 79,
   "metadata": {},
   "outputs": [
    {
     "name": "stdout",
     "output_type": "stream",
     "text": [
      "Training performance:\n",
      "              precision    recall  f1-score   support\n",
      "\n",
      "       <=50K       0.90      0.93      0.91     18148\n",
      "        >50K       0.75      0.68      0.71      5963\n",
      "\n",
      "    accuracy                           0.87     24111\n",
      "   macro avg       0.82      0.80      0.81     24111\n",
      "weighted avg       0.86      0.87      0.86     24111\n",
      "\n",
      "               Actual <=50K  Actual >50K\n",
      "Predict <=50K      0.697441     0.079715\n",
      "Predict >50K       0.055244     0.167600\n",
      "\n",
      "\n",
      "Testing performance:\n",
      "              precision    recall  f1-score   support\n",
      "\n",
      "       <=50K       0.86      0.90      0.88      4485\n",
      "        >50K       0.66      0.58      0.62      1543\n",
      "\n",
      "    accuracy                           0.82      6028\n",
      "   macro avg       0.76      0.74      0.75      6028\n",
      "weighted avg       0.81      0.82      0.81      6028\n",
      "\n",
      "               Actual <=50K  Actual >50K\n",
      "Predict <=50K      0.667883     0.108162\n",
      "Predict >50K       0.076145     0.147810\n",
      "\n",
      "\n",
      "Time spent: 13.11s\n"
     ]
    }
   ],
   "source": [
    "# Training by default setting\n",
    "knn = KNeighborsClassifier(n_jobs=-1)\n",
    "\n",
    "t1 = time.time()\n",
    "knn.fit(X_train_scaled, y_train)\n",
    "\n",
    "print('Training performance:')\n",
    "class_metrics(knn, X_train_scaled, y_train)\n",
    "\n",
    "print('\\n\\nTesting performance:')\n",
    "class_metrics(knn, X_test_scaled, y_test)\n",
    "t2 = time.time()\n",
    "\n",
    "print('\\n')\n",
    "print(f'Time spent: {round(t2-t1, 2)}s')"
   ]
  },
  {
   "cell_type": "code",
   "execution_count": 80,
   "metadata": {},
   "outputs": [
    {
     "name": "stdout",
     "output_type": "stream",
     "text": [
      "Fitting 5 folds for each of 15 candidates, totalling 75 fits\n",
      "[Parallel(n_jobs=-1)]: Using backend LokyBackend with 8 concurrent workers.\n",
      "[Parallel(n_jobs=-1)]: Done  16 tasks      | elapsed:   35.7s\n",
      "[Parallel(n_jobs=-1)]: Done  75 out of  75 | elapsed:  2.6min finished\n",
      "Best parameter: {'metric': 'manhattan', 'n_neighbors': 50}\n",
      "Best f1 score: 0.6127123356253579\n"
     ]
    }
   ],
   "source": [
    "# Hyperparameter tuning\n",
    "params = {'n_neighbors':[5, 10, 20, 50, 100],\n",
    "         'metric': ['euclidean', 'manhattan', 'minkowski']}\n",
    "grid = GridSearchCV(estimator=knn, param_grid = params, scoring='f1', n_jobs=-1, cv=5, verbose=3)\n",
    "grid.fit(X_train_scaled, y_train)\n",
    "print(f'Best parameter: {grid.best_params_}')\n",
    "print(f'Best f1 score: {grid.best_score_}')"
   ]
  },
  {
   "cell_type": "code",
   "execution_count": 37,
   "metadata": {},
   "outputs": [
    {
     "name": "stdout",
     "output_type": "stream",
     "text": [
      "Training performance:\n",
      "              precision    recall  f1-score   support\n",
      "\n",
      "       <=50K       0.87      0.92      0.89     18148\n",
      "        >50K       0.70      0.57      0.63      5963\n",
      "\n",
      "    accuracy                           0.83     24111\n",
      "   macro avg       0.78      0.74      0.76     24111\n",
      "weighted avg       0.83      0.83      0.83     24111\n",
      "\n",
      "               Actual <=50K  Actual >50K\n",
      "Predict <=50K      0.691800     0.106383\n",
      "Predict >50K       0.060885     0.140932\n",
      "\n",
      "\n",
      "Testing performance:\n",
      "              precision    recall  f1-score   support\n",
      "\n",
      "       <=50K       0.86      0.92      0.89      4485\n",
      "        >50K       0.70      0.57      0.63      1543\n",
      "\n",
      "    accuracy                           0.83      6028\n",
      "   macro avg       0.78      0.74      0.76      6028\n",
      "weighted avg       0.82      0.83      0.82      6028\n",
      "\n",
      "               Actual <=50K  Actual >50K\n",
      "Predict <=50K      0.681984     0.109987\n",
      "Predict >50K       0.062044     0.145985\n",
      "\n",
      "\n",
      "Time spent: 15.14s\n"
     ]
    }
   ],
   "source": [
    "# Training by best parameter\n",
    "knn = KNeighborsClassifier(n_neighbors=50, metric='manhattan', n_jobs=-1)\n",
    "\n",
    "t1 = time.time()\n",
    "knn.fit(X_train_scaled, y_train)\n",
    "\n",
    "print('Training performance:')\n",
    "class_metrics(knn, X_train_scaled, y_train)\n",
    "\n",
    "print('\\n\\nTesting performance:')\n",
    "class_metrics(knn, X_test_scaled, y_test)\n",
    "t2 = time.time()\n",
    "\n",
    "print('\\n')\n",
    "print(f'Time spent: {round(t2-t1, 2)}s')"
   ]
  },
  {
   "cell_type": "markdown",
   "metadata": {},
   "source": [
    "### Random Forest"
   ]
  },
  {
   "cell_type": "code",
   "execution_count": 11,
   "metadata": {},
   "outputs": [
    {
     "name": "stdout",
     "output_type": "stream",
     "text": [
      "Training performance:\n",
      "              precision    recall  f1-score   support\n",
      "\n",
      "       <=50K       0.99      0.96      0.98     18148\n",
      "        >50K       0.89      0.97      0.93      5963\n",
      "\n",
      "    accuracy                           0.96     24111\n",
      "   macro avg       0.94      0.97      0.95     24111\n",
      "weighted avg       0.97      0.96      0.96     24111\n",
      "\n",
      "               Actual <=50K  Actual >50K\n",
      "Predict <=50K      0.723321     0.006553\n",
      "Predict >50K       0.029364     0.240761\n",
      "\n",
      "\n",
      "Testing performance:\n",
      "              precision    recall  f1-score   support\n",
      "\n",
      "       <=50K       0.87      0.89      0.88      4485\n",
      "        >50K       0.65      0.61      0.63      1543\n",
      "\n",
      "    accuracy                           0.82      6028\n",
      "   macro avg       0.76      0.75      0.75      6028\n",
      "weighted avg       0.81      0.82      0.81      6028\n",
      "\n",
      "               Actual <=50K  Actual >50K\n",
      "Predict <=50K      0.660584     0.100863\n",
      "Predict >50K       0.083444     0.155109\n",
      "\n",
      "\n",
      "Time spent: 0.72s\n"
     ]
    }
   ],
   "source": [
    "# Training by default setting\n",
    "rfc = RandomForestClassifier(class_weight='balanced', n_jobs=-1)\n",
    "\n",
    "t1 = time.time()\n",
    "rfc.fit(X_train_scaled, y_train)\n",
    "\n",
    "\n",
    "print('Training performance:')\n",
    "class_metrics(rfc, X_train_scaled, y_train)\n",
    "\n",
    "print('\\n\\nTesting performance:')\n",
    "class_metrics(rfc, X_test_scaled, y_test)\n",
    "t2 = time.time()\n",
    "\n",
    "print('\\n')\n",
    "print(f'Time spent: {round(t2-t1, 2)}s')"
   ]
  },
  {
   "cell_type": "code",
   "execution_count": 14,
   "metadata": {},
   "outputs": [
    {
     "name": "stdout",
     "output_type": "stream",
     "text": [
      "Fitting 5 folds for each of 20 candidates, totalling 100 fits\n",
      "[Parallel(n_jobs=1)]: Using backend SequentialBackend with 1 concurrent workers.\n",
      "[Parallel(n_jobs=1)]: Done 100 out of 100 | elapsed:  8.7min finished\n",
      "Best parameter: {'max_depth': 20, 'n_estimators': 2000}\n",
      "Best f1 score: 0.6636668941390906\n"
     ]
    }
   ],
   "source": [
    "# Hyperparameter tuning\n",
    "params = {'n_estimators': [100, 500, 1000, 2000], 'max_depth':[None, 5, 10, 20, 50]}\n",
    "grid = GridSearchCV(estimator=rfc, param_grid = params, scoring='f1', cv=5, verbose=1)\n",
    "grid.fit(X_train_scaled, y_train)\n",
    "print(f'Best parameter: {grid.best_params_}')\n",
    "print(f'Best f1 score: {grid.best_score_}')"
   ]
  },
  {
   "cell_type": "code",
   "execution_count": 38,
   "metadata": {},
   "outputs": [
    {
     "name": "stdout",
     "output_type": "stream",
     "text": [
      "Training performance:\n",
      "              precision    recall  f1-score   support\n",
      "\n",
      "       <=50K       0.99      0.89      0.94     18148\n",
      "        >50K       0.75      0.96      0.84      5963\n",
      "\n",
      "    accuracy                           0.91     24111\n",
      "   macro avg       0.87      0.93      0.89     24111\n",
      "weighted avg       0.93      0.91      0.91     24111\n",
      "\n",
      "               Actual <=50K  Actual >50K\n",
      "Predict <=50K      0.672515     0.009332\n",
      "Predict >50K       0.080171     0.237983\n",
      "\n",
      "\n",
      "Testing performance:\n",
      "              precision    recall  f1-score   support\n",
      "\n",
      "       <=50K       0.91      0.85      0.88      4485\n",
      "        >50K       0.63      0.75      0.68      1543\n",
      "\n",
      "    accuracy                           0.82      6028\n",
      "   macro avg       0.77      0.80      0.78      6028\n",
      "weighted avg       0.83      0.82      0.83      6028\n",
      "\n",
      "               Actual <=50K  Actual >50K\n",
      "Predict <=50K      0.629728     0.064864\n",
      "Predict >50K       0.114300     0.191108\n",
      "\n",
      "\n",
      "Time spent: 14.98s\n"
     ]
    }
   ],
   "source": [
    "# Training by best parameter\n",
    "rfc = RandomForestClassifier(n_estimators=2000, max_depth=20, class_weight='balanced', n_jobs=-1)\n",
    "\n",
    "t1 = time.time()\n",
    "rfc.fit(X_train_scaled, y_train)\n",
    "\n",
    "\n",
    "print('Training performance:')\n",
    "class_metrics(rfc, X_train_scaled, y_train)\n",
    "\n",
    "print('\\n\\nTesting performance:')\n",
    "class_metrics(rfc, X_test_scaled, y_test)\n",
    "t2 = time.time()\n",
    "\n",
    "print('\\n')\n",
    "print(f'Time spent: {round(t2-t1, 2)}s')"
   ]
  },
  {
   "cell_type": "markdown",
   "metadata": {},
   "source": [
    "Slightly overfitting for Random Forest Classifier"
   ]
  },
  {
   "cell_type": "markdown",
   "metadata": {},
   "source": [
    "### AdaBoost"
   ]
  },
  {
   "cell_type": "code",
   "execution_count": 12,
   "metadata": {},
   "outputs": [
    {
     "name": "stdout",
     "output_type": "stream",
     "text": [
      "Training performance:\n",
      "              precision    recall  f1-score   support\n",
      "\n",
      "       <=50K       0.86      0.92      0.89     18148\n",
      "        >50K       0.70      0.56      0.62      5963\n",
      "\n",
      "    accuracy                           0.83     24111\n",
      "   macro avg       0.78      0.74      0.76     24111\n",
      "weighted avg       0.82      0.83      0.83     24111\n",
      "\n",
      "               Actual <=50K  Actual >50K\n",
      "Predict <=50K      0.693999     0.108789\n",
      "Predict >50K       0.058687     0.138526\n",
      "\n",
      "\n",
      "Testing performance:\n",
      "              precision    recall  f1-score   support\n",
      "\n",
      "       <=50K       0.87      0.92      0.89      4485\n",
      "        >50K       0.72      0.58      0.65      1543\n",
      "\n",
      "    accuracy                           0.84      6028\n",
      "   macro avg       0.79      0.75      0.77      6028\n",
      "weighted avg       0.83      0.84      0.83      6028\n",
      "\n",
      "               Actual <=50K  Actual >50K\n",
      "Predict <=50K      0.686795     0.106337\n",
      "Predict >50K       0.057233     0.149635\n",
      "\n",
      "\n",
      "Time spent: 2.32s\n"
     ]
    }
   ],
   "source": [
    "# Training by default setting\n",
    "ada = AdaBoostClassifier()\n",
    "\n",
    "t1 = time.time()\n",
    "ada.fit(X_train_scaled, y_train)\n",
    "\n",
    "\n",
    "print('Training performance:')\n",
    "class_metrics(ada, X_train_scaled, y_train)\n",
    "\n",
    "print('\\n\\nTesting performance:')\n",
    "class_metrics(ada, X_test_scaled, y_test)\n",
    "t2 = time.time()\n",
    "\n",
    "print('\\n')\n",
    "print(f'Time spent: {round(t2-t1, 2)}s')"
   ]
  },
  {
   "cell_type": "code",
   "execution_count": 14,
   "metadata": {},
   "outputs": [
    {
     "name": "stdout",
     "output_type": "stream",
     "text": [
      "Fitting 5 folds for each of 20 candidates, totalling 100 fits\n",
      "[Parallel(n_jobs=-1)]: Using backend LokyBackend with 8 concurrent workers.\n",
      "[Parallel(n_jobs=-1)]: Done  16 tasks      | elapsed:  1.4min\n",
      "[Parallel(n_jobs=-1)]: Done 100 out of 100 | elapsed: 12.2min finished\n",
      "Best parameter: {'learning_rate': 1.0, 'n_estimators': 2000}\n",
      "Best f1 score: 0.6213713822089826\n"
     ]
    }
   ],
   "source": [
    "# Hyperparameter tuning\n",
    "params = {'n_estimators':[100, 500, 1000, 2000], 'learning_rate':[0.001, 0.01, 0.1, 0.5, 1.0]}\n",
    "grid = GridSearchCV(estimator=ada, param_grid = params, scoring='f1', n_jobs=-1, cv=5, verbose=3)\n",
    "grid.fit(X_train_scaled, y_train)\n",
    "print(f'Best parameter: {grid.best_params_}')\n",
    "print(f'Best f1 score: {grid.best_score_}')"
   ]
  },
  {
   "cell_type": "code",
   "execution_count": 39,
   "metadata": {},
   "outputs": [
    {
     "name": "stdout",
     "output_type": "stream",
     "text": [
      "Training performance:\n",
      "              precision    recall  f1-score   support\n",
      "\n",
      "       <=50K       0.87      0.92      0.89     18148\n",
      "        >50K       0.71      0.57      0.63      5963\n",
      "\n",
      "    accuracy                           0.83     24111\n",
      "   macro avg       0.79      0.74      0.76     24111\n",
      "weighted avg       0.83      0.83      0.83     24111\n",
      "\n",
      "               Actual <=50K  Actual >50K\n",
      "Predict <=50K      0.694040     0.106881\n",
      "Predict >50K       0.058645     0.140434\n",
      "\n",
      "\n",
      "Testing performance:\n",
      "              precision    recall  f1-score   support\n",
      "\n",
      "       <=50K       0.86      0.92      0.89      4485\n",
      "        >50K       0.72      0.58      0.64      1543\n",
      "\n",
      "    accuracy                           0.83      6028\n",
      "   macro avg       0.79      0.75      0.77      6028\n",
      "weighted avg       0.83      0.83      0.83      6028\n",
      "\n",
      "               Actual <=50K  Actual >50K\n",
      "Predict <=50K      0.685800     0.107332\n",
      "Predict >50K       0.058228     0.148640\n",
      "\n",
      "\n",
      "Time spent: 48.9s\n"
     ]
    }
   ],
   "source": [
    "# Training by best parameter\n",
    "ada = AdaBoostClassifier(n_estimators=2000, learning_rate=1.0)\n",
    "\n",
    "t1 = time.time()\n",
    "ada.fit(X_train_scaled, y_train)\n",
    "\n",
    "\n",
    "print('Training performance:')\n",
    "class_metrics(ada, X_train_scaled, y_train)\n",
    "\n",
    "print('\\n\\nTesting performance:')\n",
    "class_metrics(ada, X_test_scaled, y_test)\n",
    "t2 = time.time()\n",
    "\n",
    "print('\\n')\n",
    "print(f'Time spent: {round(t2-t1, 2)}s')"
   ]
  },
  {
   "cell_type": "markdown",
   "metadata": {},
   "source": [
    "### XGBoost"
   ]
  },
  {
   "cell_type": "code",
   "execution_count": 40,
   "metadata": {},
   "outputs": [
    {
     "name": "stdout",
     "output_type": "stream",
     "text": [
      "Training performance:\n",
      "              precision    recall  f1-score   support\n",
      "\n",
      "       <=50K       0.90      0.93      0.92     18148\n",
      "        >50K       0.77      0.69      0.73      5963\n",
      "\n",
      "    accuracy                           0.87     24111\n",
      "   macro avg       0.84      0.81      0.82     24111\n",
      "weighted avg       0.87      0.87      0.87     24111\n",
      "\n",
      "               Actual <=50K  Actual >50K\n",
      "Predict <=50K      0.701879     0.077019\n",
      "Predict >50K       0.050807     0.170296\n",
      "\n",
      "\n",
      "Testing performance:\n",
      "              precision    recall  f1-score   support\n",
      "\n",
      "       <=50K       0.87      0.91      0.89      4485\n",
      "        >50K       0.70      0.61      0.65      1543\n",
      "\n",
      "    accuracy                           0.83      6028\n",
      "   macro avg       0.79      0.76      0.77      6028\n",
      "weighted avg       0.83      0.83      0.83      6028\n",
      "\n",
      "               Actual <=50K  Actual >50K\n",
      "Predict <=50K      0.678334     0.100697\n",
      "Predict >50K       0.065693     0.155275\n",
      "\n",
      "\n",
      "Time spent: 1.68s\n"
     ]
    }
   ],
   "source": [
    "# Training by default setting\n",
    "xgb = XGBClassifier()\n",
    "\n",
    "t1 = time.time()\n",
    "xgb.fit(X_train_scaled, y_train)\n",
    "\n",
    "\n",
    "print('Training performance:')\n",
    "class_metrics(xgb, X_train_scaled, y_train)\n",
    "\n",
    "print('\\n\\nTesting performance:')\n",
    "class_metrics(xgb, X_test_scaled, y_test)\n",
    "t2 = time.time()\n",
    "\n",
    "print('\\n')\n",
    "print(f'Time spent: {round(t2-t1, 2)}s')"
   ]
  },
  {
   "cell_type": "code",
   "execution_count": 16,
   "metadata": {},
   "outputs": [
    {
     "name": "stdout",
     "output_type": "stream",
     "text": [
      "Fitting 5 folds for each of 80 candidates, totalling 400 fits\n",
      "[Parallel(n_jobs=-1)]: Using backend LokyBackend with 8 concurrent workers.\n",
      "[Parallel(n_jobs=-1)]: Done  16 tasks      | elapsed:   13.1s\n",
      "[Parallel(n_jobs=-1)]: Done 112 tasks      | elapsed:  3.6min\n",
      "[Parallel(n_jobs=-1)]: Done 272 tasks      | elapsed:  9.1min\n",
      "[Parallel(n_jobs=-1)]: Done 400 out of 400 | elapsed: 14.1min finished\n",
      "Best parameter: {'eta': 0.1, 'max_depth': 8, 'n_estimators': 100}\n",
      "Best f1 score: 0.6446420310265515\n"
     ]
    }
   ],
   "source": [
    "# Hyperparameter tuning\n",
    "params = {'eta': [0.01, 0.05, 0.1, 0.2, 0.5], 'max_depth':[3, 6, 8, 10], 'n_estimators':[50, 100, 200, 500]}\n",
    "grid = GridSearchCV(estimator=xgb, param_grid = params, scoring='f1', n_jobs=-1, cv=5, verbose=3)\n",
    "grid.fit(X_train_scaled, y_train)\n",
    "print(f'Best parameter: {grid.best_params_}')\n",
    "print(f'Best f1 score: {grid.best_score_}')"
   ]
  },
  {
   "cell_type": "code",
   "execution_count": 41,
   "metadata": {},
   "outputs": [
    {
     "name": "stdout",
     "output_type": "stream",
     "text": [
      "Training performance:\n",
      "              precision    recall  f1-score   support\n",
      "\n",
      "       <=50K       0.89      0.93      0.91     18148\n",
      "        >50K       0.77      0.66      0.71      5963\n",
      "\n",
      "    accuracy                           0.87     24111\n",
      "   macro avg       0.83      0.80      0.81     24111\n",
      "weighted avg       0.86      0.87      0.86     24111\n",
      "\n",
      "               Actual <=50K  Actual >50K\n",
      "Predict <=50K      0.702584     0.083240\n",
      "Predict >50K       0.050102     0.164074\n",
      "\n",
      "\n",
      "Testing performance:\n",
      "              precision    recall  f1-score   support\n",
      "\n",
      "       <=50K       0.87      0.92      0.90      4485\n",
      "        >50K       0.72      0.61      0.66      1543\n",
      "\n",
      "    accuracy                           0.84      6028\n",
      "   macro avg       0.80      0.76      0.78      6028\n",
      "weighted avg       0.83      0.84      0.84      6028\n",
      "\n",
      "               Actual <=50K  Actual >50K\n",
      "Predict <=50K      0.685136     0.100863\n",
      "Predict >50K       0.058892     0.155109\n",
      "\n",
      "\n",
      "Time spent: 1.45s\n"
     ]
    }
   ],
   "source": [
    "# Training by best parameter\n",
    "xgb = XGBClassifier(n_estimators=100, max_depth=8, eta=0.1)\n",
    "\n",
    "t1 = time.time()\n",
    "xgb.fit(X_train_scaled, y_train)\n",
    "\n",
    "\n",
    "print('Training performance:')\n",
    "class_metrics(xgb, X_train_scaled, y_train)\n",
    "\n",
    "print('\\n\\nTesting performance:')\n",
    "class_metrics(xgb, X_test_scaled, y_test)\n",
    "t2 = time.time()\n",
    "\n",
    "print('\\n')\n",
    "print(f'Time spent: {round(t2-t1, 2)}s')"
   ]
  },
  {
   "cell_type": "markdown",
   "metadata": {},
   "source": [
    "## Comparison within different models"
   ]
  },
  {
   "cell_type": "code",
   "execution_count": 17,
   "metadata": {},
   "outputs": [],
   "source": [
    "# Create a function to train and evaluate different models\n",
    "def evaluation(model):\n",
    "    t1 = time.time()\n",
    "    model.fit(X_train_scaled, y_train)\n",
    "        \n",
    "    y_pred = model.predict(X_test_scaled)\n",
    "    t2 = time.time()\n",
    "    \n",
    "    time_ = t2 - t1\n",
    "    \n",
    "    accuracy = accuracy_score(y_test, y_pred)\n",
    "    f1 = f1_score(y_test, y_pred)\n",
    "    \n",
    "    prob = model.predict_proba(X_test_scaled)\n",
    "    pred = prob[:,1]\n",
    "    fpr, tpr, thresholds = roc_curve(y_test, pred)\n",
    "    roc_auc = roc_auc_score(y_test, pred)\n",
    "    return (time_, accuracy, f1, fpr, tpr, roc_auc)"
   ]
  },
  {
   "cell_type": "code",
   "execution_count": 18,
   "metadata": {},
   "outputs": [],
   "source": [
    "# Define a Dataframe to store the comparison result\n",
    "comp = pd.DataFrame(columns=['Algorithm', 'Accuracy', 'F1 Score', 'ROC_AUC', 'Time spent'])"
   ]
  },
  {
   "cell_type": "code",
   "execution_count": 19,
   "metadata": {},
   "outputs": [],
   "source": [
    "log = LogisticRegression(C=0.6, class_weight='balanced')\n",
    "(log_time, log_acc, log_f1, log_fpr, log_tpr, log_roc_auc) = evaluation(log)\n",
    "\n",
    "comp = comp.append({'Algorithm':'LogReg', 'Accuracy':log_acc, 'F1 Score':log_f1, 'ROC_AUC':log_roc_auc, \n",
    "                    'Time spent':log_time}, ignore_index=True)"
   ]
  },
  {
   "cell_type": "code",
   "execution_count": 20,
   "metadata": {},
   "outputs": [],
   "source": [
    "knn = KNeighborsClassifier(n_neighbors=50, metric='manhattan', n_jobs=-1)\n",
    "(knn_time, knn_acc, knn_f1, knn_fpr, knn_tpr, knn_roc_auc) = evaluation(knn)\n",
    "\n",
    "comp = comp.append({'Algorithm':'KNN', 'Accuracy':knn_acc, 'F1 Score':knn_f1, 'ROC_AUC':knn_roc_auc, \n",
    "                    'Time spent':knn_time}, ignore_index=True)"
   ]
  },
  {
   "cell_type": "code",
   "execution_count": 21,
   "metadata": {},
   "outputs": [],
   "source": [
    "rfc = RandomForestClassifier(n_estimators=2000, max_depth=20, class_weight='balanced', n_jobs=-1)\n",
    "(rfc_time, rfc_acc, rfc_f1, rfc_fpr, rfc_tpr, rfc_roc_auc) = evaluation(rfc)\n",
    "\n",
    "comp = comp.append({'Algorithm':'RandomForest', 'Accuracy':rfc_acc, 'F1 Score':rfc_f1, 'ROC_AUC':rfc_roc_auc,\n",
    "                    'Time spent':rfc_time}, ignore_index=True)"
   ]
  },
  {
   "cell_type": "code",
   "execution_count": 22,
   "metadata": {},
   "outputs": [],
   "source": [
    "ada = AdaBoostClassifier(n_estimators=2000, learning_rate=1.0)\n",
    "(ada_time, ada_acc, ada_f1, ada_fpr, ada_tpr, ada_roc_auc) = evaluation(ada)\n",
    "\n",
    "comp = comp.append({'Algorithm':'AdaBoost', 'Accuracy':ada_acc, 'F1 Score':ada_f1, 'ROC_AUC':ada_roc_auc,\n",
    "                    'Time spent':ada_time}, ignore_index=True)"
   ]
  },
  {
   "cell_type": "code",
   "execution_count": 23,
   "metadata": {},
   "outputs": [],
   "source": [
    "xgb = XGBClassifier(eta=0.1, max_depth=8, n_estimators=100)\n",
    "(xgb_time, xgb_acc, xgb_f1, xgb_fpr, xgb_tpr, xgb_roc_auc) = evaluation(xgb)\n",
    "\n",
    "comp = comp.append({'Algorithm':'XGBoost', 'Accuracy':xgb_acc, 'F1 Score':xgb_f1, 'ROC_AUC':xgb_roc_auc,\n",
    "                    'Time spent':xgb_time}, ignore_index=True)"
   ]
  },
  {
   "cell_type": "code",
   "execution_count": 25,
   "metadata": {},
   "outputs": [
    {
     "data": {
      "text/html": [
       "<div>\n",
       "<style scoped>\n",
       "    .dataframe tbody tr th:only-of-type {\n",
       "        vertical-align: middle;\n",
       "    }\n",
       "\n",
       "    .dataframe tbody tr th {\n",
       "        vertical-align: top;\n",
       "    }\n",
       "\n",
       "    .dataframe thead th {\n",
       "        text-align: right;\n",
       "    }\n",
       "</style>\n",
       "<table border=\"1\" class=\"dataframe\">\n",
       "  <thead>\n",
       "    <tr style=\"text-align: right;\">\n",
       "      <th></th>\n",
       "      <th>Accuracy</th>\n",
       "      <th>F1 Score</th>\n",
       "      <th>ROC_AUC</th>\n",
       "      <th>Time spent</th>\n",
       "    </tr>\n",
       "    <tr>\n",
       "      <th>Algorithm</th>\n",
       "      <th></th>\n",
       "      <th></th>\n",
       "      <th></th>\n",
       "      <th></th>\n",
       "    </tr>\n",
       "  </thead>\n",
       "  <tbody>\n",
       "    <tr>\n",
       "      <th>LogReg</th>\n",
       "      <td>0.793796</td>\n",
       "      <td>0.672809</td>\n",
       "      <td>0.887176</td>\n",
       "      <td>0.086949</td>\n",
       "    </tr>\n",
       "    <tr>\n",
       "      <th>KNN</th>\n",
       "      <td>0.827969</td>\n",
       "      <td>0.629246</td>\n",
       "      <td>0.878664</td>\n",
       "      <td>3.266185</td>\n",
       "    </tr>\n",
       "    <tr>\n",
       "      <th>RandomForest</th>\n",
       "      <td>0.820007</td>\n",
       "      <td>0.679279</td>\n",
       "      <td>0.889820</td>\n",
       "      <td>10.736949</td>\n",
       "    </tr>\n",
       "    <tr>\n",
       "      <th>AdaBoost</th>\n",
       "      <td>0.834439</td>\n",
       "      <td>0.642294</td>\n",
       "      <td>0.891425</td>\n",
       "      <td>33.096710</td>\n",
       "    </tr>\n",
       "    <tr>\n",
       "      <th>XGBoost</th>\n",
       "      <td>0.840246</td>\n",
       "      <td>0.660078</td>\n",
       "      <td>0.895626</td>\n",
       "      <td>2.646220</td>\n",
       "    </tr>\n",
       "  </tbody>\n",
       "</table>\n",
       "</div>"
      ],
      "text/plain": [
       "              Accuracy  F1 Score   ROC_AUC  Time spent\n",
       "Algorithm                                             \n",
       "LogReg        0.793796  0.672809  0.887176    0.086949\n",
       "KNN           0.827969  0.629246  0.878664    3.266185\n",
       "RandomForest  0.820007  0.679279  0.889820   10.736949\n",
       "AdaBoost      0.834439  0.642294  0.891425   33.096710\n",
       "XGBoost       0.840246  0.660078  0.895626    2.646220"
      ]
     },
     "execution_count": 25,
     "metadata": {},
     "output_type": "execute_result"
    }
   ],
   "source": [
    "# Save the comparison for further use\n",
    "comp.to_csv('comparison.csv')\n",
    "comp.set_index('Algorithm', drop=True)"
   ]
  },
  {
   "cell_type": "code",
   "execution_count": 26,
   "metadata": {},
   "outputs": [
    {
     "data": {
      "image/png": "[encoded data removed]",
      "text/plain": [
       "<Figure size 936x432 with 2 Axes>"
      ]
     },
     "metadata": {
      "needs_background": "light"
     },
     "output_type": "display_data"
    }
   ],
   "source": [
    "fig, ax = plt.subplots(1,2, figsize=(13,6))\n",
    "sns.barplot(x=comp['Algorithm'], y=comp['Accuracy'], ax=ax[0])\n",
    "sns.barplot(x=comp['Algorithm'], y=comp['F1 Score'], ax=ax[1])\n",
    "ax[0].set_title('Accuracy for each algorithm')\n",
    "ax[1].set_title('F1 Score for each algorithm')\n",
    "plt.show()"
   ]
  },
  {
   "cell_type": "code",
   "execution_count": 29,
   "metadata": {},
   "outputs": [
    {
     "data": {
      "image/png": "[encoded data removed]",
      "text/plain": [
       "<Figure size 648x432 with 1 Axes>"
      ]
     },
     "metadata": {
      "needs_background": "light"
     },
     "output_type": "display_data"
    }
   ],
   "source": [
    "plt.figure(figsize=(9,6))\n",
    "plt.title('ROC curves for different models')\n",
    "plt.plot(log_fpr, log_tpr, 'red', label = 'Log, AUC = %0.2f' % log_roc_auc)\n",
    "plt.plot(knn_fpr, knn_tpr, 'blue', label = 'KNN, AUC = %0.2f' % knn_roc_auc)\n",
    "plt.plot(rfc_fpr, rfc_tpr, 'violet', label = 'RFC, AUC = %0.2f' % rfc_roc_auc)\n",
    "plt.plot(ada_fpr, ada_tpr, 'green', label = 'Ada, AUC = %0.2f' % ada_roc_auc)\n",
    "plt.plot(xgb_fpr, xgb_tpr, 'cyan', label = 'XGB, AUC = %0.2f' % xgb_roc_auc)\n",
    "\n",
    "plt.legend(loc = 'lower right')\n",
    "plt.plot([0, 1], [0, 1],'r--')\n",
    "plt.xlim([0, 1])\n",
    "plt.ylim([0, 1])\n",
    "plt.ylabel('True Positive Rate')\n",
    "plt.xlabel('False Positive Rate')\n",
    "#plt.savefig(\"ROC.jpg\")\n",
    "plt.show()"
   ]
  }
 ],
 "metadata": {
  "kernelspec": {
   "display_name": "Python 3",
   "language": "python",
   "name": "python3"
  },
  "language_info": {
   "codemirror_mode": {
    "name": "ipython",
    "version": 3
   },
   "file_extension": ".py",
   "mimetype": "text/x-python",
   "name": "python",
   "nbconvert_exporter": "python",
   "pygments_lexer": "ipython3",
   "version": "3.8.5"
  }
 },
 "nbformat": 4,
 "nbformat_minor": 4
}
