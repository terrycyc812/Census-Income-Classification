{
 "cells": [
  {
   "cell_type": "code",
   "execution_count": 1,
   "metadata": {},
   "outputs": [],
   "source": [
    "import pandas as pd\n",
    "import matplotlib.pyplot as plt\n",
    "import seaborn as sns\n",
    "%matplotlib inline\n",
    "import numpy as np\n",
    "from sklearn.preprocessing import StandardScaler\n",
    "from sklearn.model_selection import train_test_split, GridSearchCV\n",
    "from sklearn.linear_model import LogisticRegression\n",
    "from sklearn.neighbors import KNeighborsClassifier\n",
    "from sklearn.ensemble import RandomForestClassifier, AdaBoostClassifier\n",
    "from xgboost import XGBClassifier\n",
    "from sklearn.metrics import classification_report, confusion_matrix, accuracy_score\n",
    "import time"
   ]
  },
  {
   "cell_type": "markdown",
   "metadata": {},
   "source": [
    "## Feature pre-processing"
   ]
  },
  {
   "cell_type": "code",
   "execution_count": 2,
   "metadata": {},
   "outputs": [
    {
     "data": {
      "text/html": [
       "<div>\n",
       "<style scoped>\n",
       "    .dataframe tbody tr th:only-of-type {\n",
       "        vertical-align: middle;\n",
       "    }\n",
       "\n",
       "    .dataframe tbody tr th {\n",
       "        vertical-align: top;\n",
       "    }\n",
       "\n",
       "    .dataframe thead th {\n",
       "        text-align: right;\n",
       "    }\n",
       "</style>\n",
       "<table border=\"1\" class=\"dataframe\">\n",
       "  <thead>\n",
       "    <tr style=\"text-align: right;\">\n",
       "      <th></th>\n",
       "      <th>age</th>\n",
       "      <th>workclass</th>\n",
       "      <th>education_num</th>\n",
       "      <th>marital_status</th>\n",
       "      <th>occupation</th>\n",
       "      <th>race</th>\n",
       "      <th>sex</th>\n",
       "      <th>hours_per_week</th>\n",
       "      <th>native_country</th>\n",
       "      <th>target</th>\n",
       "    </tr>\n",
       "  </thead>\n",
       "  <tbody>\n",
       "    <tr>\n",
       "      <th>0</th>\n",
       "      <td>39</td>\n",
       "      <td>State-gov</td>\n",
       "      <td>13</td>\n",
       "      <td>Never-married</td>\n",
       "      <td>Adm-clerical</td>\n",
       "      <td>White</td>\n",
       "      <td>Male</td>\n",
       "      <td>40</td>\n",
       "      <td>US</td>\n",
       "      <td>&lt;=50K</td>\n",
       "    </tr>\n",
       "    <tr>\n",
       "      <th>1</th>\n",
       "      <td>50</td>\n",
       "      <td>Self-emp-not-inc</td>\n",
       "      <td>13</td>\n",
       "      <td>Married-civ-spouse</td>\n",
       "      <td>Exec-managerial</td>\n",
       "      <td>White</td>\n",
       "      <td>Male</td>\n",
       "      <td>13</td>\n",
       "      <td>US</td>\n",
       "      <td>&lt;=50K</td>\n",
       "    </tr>\n",
       "    <tr>\n",
       "      <th>2</th>\n",
       "      <td>38</td>\n",
       "      <td>Private</td>\n",
       "      <td>9</td>\n",
       "      <td>Divorced</td>\n",
       "      <td>Handlers-cleaners</td>\n",
       "      <td>White</td>\n",
       "      <td>Male</td>\n",
       "      <td>40</td>\n",
       "      <td>US</td>\n",
       "      <td>&lt;=50K</td>\n",
       "    </tr>\n",
       "    <tr>\n",
       "      <th>3</th>\n",
       "      <td>53</td>\n",
       "      <td>Private</td>\n",
       "      <td>7</td>\n",
       "      <td>Married-civ-spouse</td>\n",
       "      <td>Handlers-cleaners</td>\n",
       "      <td>Black</td>\n",
       "      <td>Male</td>\n",
       "      <td>40</td>\n",
       "      <td>US</td>\n",
       "      <td>&lt;=50K</td>\n",
       "    </tr>\n",
       "    <tr>\n",
       "      <th>4</th>\n",
       "      <td>28</td>\n",
       "      <td>Private</td>\n",
       "      <td>13</td>\n",
       "      <td>Married-civ-spouse</td>\n",
       "      <td>Prof-specialty</td>\n",
       "      <td>Black</td>\n",
       "      <td>Female</td>\n",
       "      <td>40</td>\n",
       "      <td>Other_Americans</td>\n",
       "      <td>&lt;=50K</td>\n",
       "    </tr>\n",
       "  </tbody>\n",
       "</table>\n",
       "</div>"
      ],
      "text/plain": [
       "   age         workclass  education_num      marital_status  \\\n",
       "0   39         State-gov             13       Never-married   \n",
       "1   50  Self-emp-not-inc             13  Married-civ-spouse   \n",
       "2   38           Private              9            Divorced   \n",
       "3   53           Private              7  Married-civ-spouse   \n",
       "4   28           Private             13  Married-civ-spouse   \n",
       "\n",
       "          occupation    race      sex  hours_per_week   native_country  target  \n",
       "0       Adm-clerical   White     Male              40               US   <=50K  \n",
       "1    Exec-managerial   White     Male              13               US   <=50K  \n",
       "2  Handlers-cleaners   White     Male              40               US   <=50K  \n",
       "3  Handlers-cleaners   Black     Male              40               US   <=50K  \n",
       "4     Prof-specialty   Black   Female              40  Other_Americans   <=50K  "
      ]
     },
     "execution_count": 2,
     "metadata": {},
     "output_type": "execute_result"
    }
   ],
   "source": [
    "# Load the cleaned dataset\n",
    "df = pd.read_csv('cleaned_df.csv', index_col=0)\n",
    "df.head()"
   ]
  },
  {
   "cell_type": "code",
   "execution_count": 3,
   "metadata": {},
   "outputs": [
    {
     "data": {
      "image/png": "[encoded data removed]",
      "text/plain": [
       "<Figure size 432x288 with 1 Axes>"
      ]
     },
     "metadata": {
      "needs_background": "light"
     },
     "output_type": "display_data"
    }
   ],
   "source": [
    "sns.countplot(x=df['target'])\n",
    "plt.title('Count of two target outcomes')\n",
    "plt.show()"
   ]
  },
  {
   "cell_type": "code",
   "execution_count": 4,
   "metadata": {},
   "outputs": [],
   "source": [
    "# One-hot encoding\n",
    "df['sex'] = df['sex'].map({' Male':0, ' Female':1})\n",
    "df['target'] = df['target'].map({' <=50K':0, ' >50K':1})\n",
    "df = pd.get_dummies(df, drop_first=True)"
   ]
  },
  {
   "cell_type": "code",
   "execution_count": 5,
   "metadata": {},
   "outputs": [
    {
     "data": {
      "text/html": [
       "<div>\n",
       "<style scoped>\n",
       "    .dataframe tbody tr th:only-of-type {\n",
       "        vertical-align: middle;\n",
       "    }\n",
       "\n",
       "    .dataframe tbody tr th {\n",
       "        vertical-align: top;\n",
       "    }\n",
       "\n",
       "    .dataframe thead th {\n",
       "        text-align: right;\n",
       "    }\n",
       "</style>\n",
       "<table border=\"1\" class=\"dataframe\">\n",
       "  <thead>\n",
       "    <tr style=\"text-align: right;\">\n",
       "      <th></th>\n",
       "      <th>age</th>\n",
       "      <th>education_num</th>\n",
       "      <th>sex</th>\n",
       "      <th>hours_per_week</th>\n",
       "      <th>target</th>\n",
       "      <th>workclass_Local-gov</th>\n",
       "      <th>workclass_Private</th>\n",
       "      <th>workclass_Self-emp-inc</th>\n",
       "      <th>workclass_Self-emp-not-inc</th>\n",
       "      <th>workclass_State-gov</th>\n",
       "      <th>...</th>\n",
       "      <th>occupation_Sales</th>\n",
       "      <th>occupation_Tech-support</th>\n",
       "      <th>occupation_Transport-moving</th>\n",
       "      <th>race_ Asian-Pac-Islander</th>\n",
       "      <th>race_ Black</th>\n",
       "      <th>race_ Other</th>\n",
       "      <th>race_ White</th>\n",
       "      <th>native_country_EU</th>\n",
       "      <th>native_country_Other_Americans</th>\n",
       "      <th>native_country_US</th>\n",
       "    </tr>\n",
       "  </thead>\n",
       "  <tbody>\n",
       "    <tr>\n",
       "      <th>0</th>\n",
       "      <td>39</td>\n",
       "      <td>13</td>\n",
       "      <td>0</td>\n",
       "      <td>40</td>\n",
       "      <td>0</td>\n",
       "      <td>0</td>\n",
       "      <td>0</td>\n",
       "      <td>0</td>\n",
       "      <td>0</td>\n",
       "      <td>1</td>\n",
       "      <td>...</td>\n",
       "      <td>0</td>\n",
       "      <td>0</td>\n",
       "      <td>0</td>\n",
       "      <td>0</td>\n",
       "      <td>0</td>\n",
       "      <td>0</td>\n",
       "      <td>1</td>\n",
       "      <td>0</td>\n",
       "      <td>0</td>\n",
       "      <td>1</td>\n",
       "    </tr>\n",
       "    <tr>\n",
       "      <th>1</th>\n",
       "      <td>50</td>\n",
       "      <td>13</td>\n",
       "      <td>0</td>\n",
       "      <td>13</td>\n",
       "      <td>0</td>\n",
       "      <td>0</td>\n",
       "      <td>0</td>\n",
       "      <td>0</td>\n",
       "      <td>1</td>\n",
       "      <td>0</td>\n",
       "      <td>...</td>\n",
       "      <td>0</td>\n",
       "      <td>0</td>\n",
       "      <td>0</td>\n",
       "      <td>0</td>\n",
       "      <td>0</td>\n",
       "      <td>0</td>\n",
       "      <td>1</td>\n",
       "      <td>0</td>\n",
       "      <td>0</td>\n",
       "      <td>1</td>\n",
       "    </tr>\n",
       "    <tr>\n",
       "      <th>2</th>\n",
       "      <td>38</td>\n",
       "      <td>9</td>\n",
       "      <td>0</td>\n",
       "      <td>40</td>\n",
       "      <td>0</td>\n",
       "      <td>0</td>\n",
       "      <td>1</td>\n",
       "      <td>0</td>\n",
       "      <td>0</td>\n",
       "      <td>0</td>\n",
       "      <td>...</td>\n",
       "      <td>0</td>\n",
       "      <td>0</td>\n",
       "      <td>0</td>\n",
       "      <td>0</td>\n",
       "      <td>0</td>\n",
       "      <td>0</td>\n",
       "      <td>1</td>\n",
       "      <td>0</td>\n",
       "      <td>0</td>\n",
       "      <td>1</td>\n",
       "    </tr>\n",
       "    <tr>\n",
       "      <th>3</th>\n",
       "      <td>53</td>\n",
       "      <td>7</td>\n",
       "      <td>0</td>\n",
       "      <td>40</td>\n",
       "      <td>0</td>\n",
       "      <td>0</td>\n",
       "      <td>1</td>\n",
       "      <td>0</td>\n",
       "      <td>0</td>\n",
       "      <td>0</td>\n",
       "      <td>...</td>\n",
       "      <td>0</td>\n",
       "      <td>0</td>\n",
       "      <td>0</td>\n",
       "      <td>0</td>\n",
       "      <td>1</td>\n",
       "      <td>0</td>\n",
       "      <td>0</td>\n",
       "      <td>0</td>\n",
       "      <td>0</td>\n",
       "      <td>1</td>\n",
       "    </tr>\n",
       "    <tr>\n",
       "      <th>4</th>\n",
       "      <td>28</td>\n",
       "      <td>13</td>\n",
       "      <td>1</td>\n",
       "      <td>40</td>\n",
       "      <td>0</td>\n",
       "      <td>0</td>\n",
       "      <td>1</td>\n",
       "      <td>0</td>\n",
       "      <td>0</td>\n",
       "      <td>0</td>\n",
       "      <td>...</td>\n",
       "      <td>0</td>\n",
       "      <td>0</td>\n",
       "      <td>0</td>\n",
       "      <td>0</td>\n",
       "      <td>1</td>\n",
       "      <td>0</td>\n",
       "      <td>0</td>\n",
       "      <td>0</td>\n",
       "      <td>1</td>\n",
       "      <td>0</td>\n",
       "    </tr>\n",
       "  </tbody>\n",
       "</table>\n",
       "<p>5 rows × 37 columns</p>\n",
       "</div>"
      ],
      "text/plain": [
       "   age  education_num  sex  hours_per_week  target  workclass_Local-gov  \\\n",
       "0   39             13    0              40       0                    0   \n",
       "1   50             13    0              13       0                    0   \n",
       "2   38              9    0              40       0                    0   \n",
       "3   53              7    0              40       0                    0   \n",
       "4   28             13    1              40       0                    0   \n",
       "\n",
       "   workclass_Private  workclass_Self-emp-inc  workclass_Self-emp-not-inc  \\\n",
       "0                  0                       0                           0   \n",
       "1                  0                       0                           1   \n",
       "2                  1                       0                           0   \n",
       "3                  1                       0                           0   \n",
       "4                  1                       0                           0   \n",
       "\n",
       "   workclass_State-gov  ...  occupation_Sales  occupation_Tech-support  \\\n",
       "0                    1  ...                 0                        0   \n",
       "1                    0  ...                 0                        0   \n",
       "2                    0  ...                 0                        0   \n",
       "3                    0  ...                 0                        0   \n",
       "4                    0  ...                 0                        0   \n",
       "\n",
       "   occupation_Transport-moving  race_ Asian-Pac-Islander  race_ Black  \\\n",
       "0                            0                         0            0   \n",
       "1                            0                         0            0   \n",
       "2                            0                         0            0   \n",
       "3                            0                         0            1   \n",
       "4                            0                         0            1   \n",
       "\n",
       "   race_ Other  race_ White  native_country_EU  \\\n",
       "0            0            1                  0   \n",
       "1            0            1                  0   \n",
       "2            0            1                  0   \n",
       "3            0            0                  0   \n",
       "4            0            0                  0   \n",
       "\n",
       "   native_country_Other_Americans  native_country_US  \n",
       "0                               0                  1  \n",
       "1                               0                  1  \n",
       "2                               0                  1  \n",
       "3                               0                  1  \n",
       "4                               1                  0  \n",
       "\n",
       "[5 rows x 37 columns]"
      ]
     },
     "execution_count": 5,
     "metadata": {},
     "output_type": "execute_result"
    }
   ],
   "source": [
    "df.head()"
   ]
  },
  {
   "cell_type": "code",
   "execution_count": 6,
   "metadata": {},
   "outputs": [],
   "source": [
    "# Assign the target/feature\n",
    "# Split into training set and testing set\n",
    "X = df.drop('target', axis=1)\n",
    "y = df['target']\n",
    "X_train, X_test, y_train, y_test = train_test_split(X, y, test_size=0.2, random_state=42)"
   ]
  },
  {
   "cell_type": "code",
   "execution_count": 7,
   "metadata": {},
   "outputs": [],
   "source": [
    "# Scaling the features\n",
    "scaler = StandardScaler()\n",
    "X_train_scaled = scaler.fit_transform(X_train)\n",
    "X_test_scaled = scaler.transform(X_test)"
   ]
  },
  {
   "cell_type": "markdown",
   "metadata": {},
   "source": [
    "## Model building"
   ]
  },
  {
   "cell_type": "code",
   "execution_count": 8,
   "metadata": {},
   "outputs": [],
   "source": [
    "# Create a function to evaluate the model performance later. \n",
    "def class_metrics(model, x_data, y_data):\n",
    "    y_pred = model.predict(x_data)\n",
    "    print(classification_report(y_data, y_pred, target_names=['<=50K', '>50K']), end='\\n')\n",
    "    \n",
    "    tn,fp,fn,tp = confusion_matrix(y_data, y_pred).ravel()\n",
    "    print(pd.DataFrame({'Actual <=50K':[tn,fp], 'Actual >50K':[fn,tp]}, \n",
    "                       index=['Predict <=50K', 'Predict >50K'])/len(x_data))"
   ]
  },
  {
   "cell_type": "code",
   "execution_count": 10,
   "metadata": {},
   "outputs": [],
   "source": [
    "# Define a Dataframe to store the comparison result of different algorithms\n",
    "comp = pd.DataFrame(columns=['Algorithm', 'Accuracy', 'Time spent'])"
   ]
  },
  {
   "cell_type": "markdown",
   "metadata": {},
   "source": [
    "### Logistic Regression"
   ]
  },
  {
   "cell_type": "code",
   "execution_count": 7,
   "metadata": {
    "scrolled": true
   },
   "outputs": [
    {
     "name": "stdout",
     "output_type": "stream",
     "text": [
      "Training performance:\n",
      "              precision    recall  f1-score   support\n",
      "\n",
      "       <=50K       0.93      0.77      0.85     18148\n",
      "        >50K       0.55      0.83      0.66      5963\n",
      "\n",
      "    accuracy                           0.79     24111\n",
      "   macro avg       0.74      0.80      0.75     24111\n",
      "weighted avg       0.84      0.79      0.80     24111\n",
      "\n",
      "               Actual <=50K  Actual >50K\n",
      "Predict <=50K      0.583302     0.041973\n",
      "Predict >50K       0.169383     0.205342\n",
      "\n",
      "\n",
      "Testing performance:\n",
      "              precision    recall  f1-score   support\n",
      "\n",
      "       <=50K       0.93      0.78      0.85      4485\n",
      "        >50K       0.57      0.83      0.67      1543\n",
      "\n",
      "    accuracy                           0.79      6028\n",
      "   macro avg       0.75      0.81      0.76      6028\n",
      "weighted avg       0.84      0.79      0.80      6028\n",
      "\n",
      "               Actual <=50K  Actual >50K\n",
      "Predict <=50K      0.581785     0.043962\n",
      "Predict >50K       0.162243     0.212011\n",
      "\n",
      "\n",
      "Time spent: 0.19s\n"
     ]
    }
   ],
   "source": [
    "# Training by default setting\n",
    "log = LogisticRegression(class_weight='balanced')\n",
    "\n",
    "t1 = time.time()\n",
    "log.fit(X_train_scaled, y_train)\n",
    "\n",
    "print('Training performance:')\n",
    "class_metrics(log, X_train_scaled, y_train)\n",
    "\n",
    "print('\\n\\nTesting performance:')\n",
    "class_metrics(log, X_test_scaled, y_test)\n",
    "t2 = time.time()\n",
    "\n",
    "print('\\n')\n",
    "print(f'Time spent: {round(t2-t1, 2)}s')"
   ]
  },
  {
   "cell_type": "code",
   "execution_count": 17,
   "metadata": {},
   "outputs": [
    {
     "name": "stdout",
     "output_type": "stream",
     "text": [
      "Best parameter: {'C': 0.6}\n",
      "Best accuracy score: 0.7876479451216198\n"
     ]
    }
   ],
   "source": [
    "# Hyperparameter tuning\n",
    "params = {'C': [0, 0.2, 0.4, 0.6, 0.8, 1.0]}\n",
    "grid = GridSearchCV(estimator=log, param_grid = params, scoring='accuracy', n_jobs=-1, cv=10)\n",
    "grid.fit(X_train_scaled, y_train)\n",
    "print(f'Best parameter: {grid.best_params_}')\n",
    "print(f'Best accuracy score: {grid.best_score_}')"
   ]
  },
  {
   "cell_type": "code",
   "execution_count": 11,
   "metadata": {
    "scrolled": true
   },
   "outputs": [
    {
     "name": "stdout",
     "output_type": "stream",
     "text": [
      "Training performance:\n",
      "              precision    recall  f1-score   support\n",
      "\n",
      "       <=50K       0.93      0.77      0.85     18148\n",
      "        >50K       0.55      0.83      0.66      5963\n",
      "\n",
      "    accuracy                           0.79     24111\n",
      "   macro avg       0.74      0.80      0.75     24111\n",
      "weighted avg       0.84      0.79      0.80     24111\n",
      "\n",
      "               Actual <=50K  Actual >50K\n",
      "Predict <=50K      0.583302     0.041973\n",
      "Predict >50K       0.169383     0.205342\n",
      "\n",
      "\n",
      "Testing performance:\n",
      "              precision    recall  f1-score   support\n",
      "\n",
      "       <=50K       0.93      0.78      0.85      4485\n",
      "        >50K       0.57      0.83      0.67      1543\n",
      "\n",
      "    accuracy                           0.79      6028\n",
      "   macro avg       0.75      0.81      0.76      6028\n",
      "weighted avg       0.84      0.79      0.80      6028\n",
      "\n",
      "               Actual <=50K  Actual >50K\n",
      "Predict <=50K      0.581785     0.043962\n",
      "Predict >50K       0.162243     0.212011\n",
      "\n",
      "\n",
      "Time spent: 0.2s\n"
     ]
    }
   ],
   "source": [
    "# Training by best parameter\n",
    "log = LogisticRegression(C=0.6, class_weight='balanced')\n",
    "\n",
    "t1 = time.time()\n",
    "log.fit(X_train_scaled, y_train)\n",
    "\n",
    "print('Training performance:')\n",
    "class_metrics(log, X_train_scaled, y_train)\n",
    "\n",
    "print('\\n\\nTesting performance:')\n",
    "class_metrics(log, X_test_scaled, y_test)\n",
    "t2 = time.time()\n",
    "\n",
    "print('\\n')\n",
    "print(f'Time spent: {round(t2-t1, 2)}s')\n",
    "\n",
    "y_pred = log.predict(X_test_scaled)\n",
    "accuracy = accuracy_score(y_test, y_pred)\n",
    "comp = comp.append({'Algorithm':'Logistic', 'Accuracy':accuracy, 'Time spent':round(t2-t1, 2)}, \n",
    "                   ignore_index=True)"
   ]
  },
  {
   "cell_type": "markdown",
   "metadata": {},
   "source": [
    "### KNN"
   ]
  },
  {
   "cell_type": "code",
   "execution_count": 10,
   "metadata": {
    "scrolled": true
   },
   "outputs": [
    {
     "name": "stdout",
     "output_type": "stream",
     "text": [
      "Training performance:\n",
      "              precision    recall  f1-score   support\n",
      "\n",
      "       <=50K       0.90      0.93      0.91     18148\n",
      "        >50K       0.75      0.68      0.71      5963\n",
      "\n",
      "    accuracy                           0.87     24111\n",
      "   macro avg       0.82      0.80      0.81     24111\n",
      "weighted avg       0.86      0.87      0.86     24111\n",
      "\n",
      "               Actual <=50K  Actual >50K\n",
      "Predict <=50K      0.697441     0.079715\n",
      "Predict >50K       0.055244     0.167600\n",
      "\n",
      "\n",
      "Testing performance:\n",
      "              precision    recall  f1-score   support\n",
      "\n",
      "       <=50K       0.86      0.90      0.88      4485\n",
      "        >50K       0.66      0.58      0.62      1543\n",
      "\n",
      "    accuracy                           0.82      6028\n",
      "   macro avg       0.76      0.74      0.75      6028\n",
      "weighted avg       0.81      0.82      0.81      6028\n",
      "\n",
      "               Actual <=50K  Actual >50K\n",
      "Predict <=50K      0.667883     0.108162\n",
      "Predict >50K       0.076145     0.147810\n",
      "\n",
      "\n",
      "Time spent: 12.81s\n"
     ]
    }
   ],
   "source": [
    "# Training by default setting\n",
    "knn = KNeighborsClassifier(n_jobs=-1)\n",
    "\n",
    "t1 = time.time()\n",
    "knn.fit(X_train_scaled, y_train)\n",
    "\n",
    "print('Training performance:')\n",
    "class_metrics(knn, X_train_scaled, y_train)\n",
    "\n",
    "print('\\n\\nTesting performance:')\n",
    "class_metrics(knn, X_test_scaled, y_test)\n",
    "t2 = time.time()\n",
    "\n",
    "print('\\n')\n",
    "print(f'Time spent: {round(t2-t1, 2)}s')"
   ]
  },
  {
   "cell_type": "code",
   "execution_count": 18,
   "metadata": {},
   "outputs": [
    {
     "name": "stdout",
     "output_type": "stream",
     "text": [
      "Best parameter: {'metric': 'manhattan', 'n_neighbors': 20}\n",
      "Best accuracy score: 0.8273815335803236\n"
     ]
    }
   ],
   "source": [
    "# Hyperparameter tuning\n",
    "params = {'n_neighbors':[5, 10, 20, 50, 100],\n",
    "         'metric': ['euclidean', 'manhattan', 'minkowski']}\n",
    "grid = GridSearchCV(estimator=knn, param_grid = params, scoring='accuracy', n_jobs=-1, cv=5)\n",
    "grid.fit(X_train_scaled, y_train)\n",
    "print(f'Best parameter: {grid.best_params_}')\n",
    "print(f'Best accuracy score: {grid.best_score_}')"
   ]
  },
  {
   "cell_type": "code",
   "execution_count": 12,
   "metadata": {
    "scrolled": true
   },
   "outputs": [
    {
     "name": "stdout",
     "output_type": "stream",
     "text": [
      "Training performance:\n",
      "              precision    recall  f1-score   support\n",
      "\n",
      "       <=50K       0.87      0.93      0.90     18148\n",
      "        >50K       0.73      0.58      0.65      5963\n",
      "\n",
      "    accuracy                           0.84     24111\n",
      "   macro avg       0.80      0.76      0.77     24111\n",
      "weighted avg       0.84      0.84      0.84     24111\n",
      "\n",
      "               Actual <=50K  Actual >50K\n",
      "Predict <=50K      0.698519     0.103272\n",
      "Predict >50K       0.054166     0.144042\n",
      "\n",
      "\n",
      "Testing performance:\n",
      "              precision    recall  f1-score   support\n",
      "\n",
      "       <=50K       0.86      0.92      0.89      4485\n",
      "        >50K       0.70      0.57      0.63      1543\n",
      "\n",
      "    accuracy                           0.83      6028\n",
      "   macro avg       0.78      0.74      0.76      6028\n",
      "weighted avg       0.82      0.83      0.82      6028\n",
      "\n",
      "               Actual <=50K  Actual >50K\n",
      "Predict <=50K      0.682482     0.110816\n",
      "Predict >50K       0.061546     0.145156\n",
      "\n",
      "\n",
      "Time spent: 13.43s\n"
     ]
    }
   ],
   "source": [
    "# Training by best parameter\n",
    "knn = KNeighborsClassifier(n_neighbors=20, metric='manhattan', n_jobs=-1)\n",
    "\n",
    "t1 = time.time()\n",
    "knn.fit(X_train_scaled, y_train)\n",
    "\n",
    "print('Training performance:')\n",
    "class_metrics(knn, X_train_scaled, y_train)\n",
    "\n",
    "print('\\n\\nTesting performance:')\n",
    "class_metrics(knn, X_test_scaled, y_test)\n",
    "t2 = time.time()\n",
    "\n",
    "print('\\n')\n",
    "print(f'Time spent: {round(t2-t1, 2)}s')\n",
    "\n",
    "y_pred = knn.predict(X_test_scaled)\n",
    "accuracy = accuracy_score(y_test, y_pred)\n",
    "comp = comp.append({'Algorithm':'KNN', 'Accuracy':accuracy, 'Time spent':round(t2-t1, 2)}, \n",
    "                   ignore_index=True)"
   ]
  },
  {
   "cell_type": "markdown",
   "metadata": {},
   "source": [
    "### Random Forest"
   ]
  },
  {
   "cell_type": "code",
   "execution_count": 8,
   "metadata": {
    "scrolled": true
   },
   "outputs": [
    {
     "name": "stdout",
     "output_type": "stream",
     "text": [
      "Training performance:\n",
      "              precision    recall  f1-score   support\n",
      "\n",
      "       <=50K       0.99      0.96      0.98     18148\n",
      "        >50K       0.89      0.97      0.93      5963\n",
      "\n",
      "    accuracy                           0.96     24111\n",
      "   macro avg       0.94      0.97      0.95     24111\n",
      "weighted avg       0.97      0.96      0.96     24111\n",
      "\n",
      "               Actual <=50K  Actual >50K\n",
      "Predict <=50K      0.722990     0.006221\n",
      "Predict >50K       0.029696     0.241093\n",
      "\n",
      "\n",
      "Testing performance:\n",
      "              precision    recall  f1-score   support\n",
      "\n",
      "       <=50K       0.87      0.88      0.88      4485\n",
      "        >50K       0.64      0.61      0.63      1543\n",
      "\n",
      "    accuracy                           0.81      6028\n",
      "   macro avg       0.76      0.75      0.75      6028\n",
      "weighted avg       0.81      0.81      0.81      6028\n",
      "\n",
      "               Actual <=50K  Actual >50K\n",
      "Predict <=50K      0.658096     0.100199\n",
      "Predict >50K       0.085932     0.155773\n",
      "\n",
      "\n",
      "Time spent: 0.7s\n"
     ]
    }
   ],
   "source": [
    "# Training by default setting\n",
    "rfc = RandomForestClassifier(class_weight='balanced', n_jobs=-1)\n",
    "\n",
    "t1 = time.time()\n",
    "rfc.fit(X_train_scaled, y_train)\n",
    "\n",
    "\n",
    "print('Training performance:')\n",
    "class_metrics(rfc, X_train_scaled, y_train)\n",
    "\n",
    "print('\\n\\nTesting performance:')\n",
    "class_metrics(rfc, X_test_scaled, y_test)\n",
    "t2 = time.time()\n",
    "\n",
    "print('\\n')\n",
    "print(f'Time spent: {round(t2-t1, 2)}s')"
   ]
  },
  {
   "cell_type": "code",
   "execution_count": 9,
   "metadata": {},
   "outputs": [
    {
     "name": "stdout",
     "output_type": "stream",
     "text": [
      "Best parameter: {'max_depth': 20, 'n_estimators': 2000}\n",
      "Best accuracy score: 0.8154777061739553\n"
     ]
    }
   ],
   "source": [
    "# Hyperparameter tuning\n",
    "params = {'n_estimators': [100, 500, 1000, 2000], 'max_depth':[5, 10, 20, 50]}\n",
    "grid = GridSearchCV(estimator=rfc, param_grid = params, scoring='accuracy', cv=10)\n",
    "grid.fit(X_train_scaled, y_train)\n",
    "print(f'Best parameter: {grid.best_params_}')\n",
    "print(f'Best accuracy score: {grid.best_score_}')"
   ]
  },
  {
   "cell_type": "code",
   "execution_count": 13,
   "metadata": {
    "scrolled": true
   },
   "outputs": [
    {
     "name": "stdout",
     "output_type": "stream",
     "text": [
      "Training performance:\n",
      "              precision    recall  f1-score   support\n",
      "\n",
      "       <=50K       0.99      0.89      0.94     18148\n",
      "        >50K       0.75      0.96      0.84      5963\n",
      "\n",
      "    accuracy                           0.91     24111\n",
      "   macro avg       0.87      0.93      0.89     24111\n",
      "weighted avg       0.93      0.91      0.91     24111\n",
      "\n",
      "               Actual <=50K  Actual >50K\n",
      "Predict <=50K      0.672681     0.009622\n",
      "Predict >50K       0.080005     0.237692\n",
      "\n",
      "\n",
      "Testing performance:\n",
      "              precision    recall  f1-score   support\n",
      "\n",
      "       <=50K       0.91      0.85      0.87      4485\n",
      "        >50K       0.62      0.75      0.68      1543\n",
      "\n",
      "    accuracy                           0.82      6028\n",
      "   macro avg       0.77      0.80      0.78      6028\n",
      "weighted avg       0.83      0.82      0.82      6028\n",
      "\n",
      "               Actual <=50K  Actual >50K\n",
      "Predict <=50K      0.629064     0.065196\n",
      "Predict >50K       0.114964     0.190776\n",
      "\n",
      "\n",
      "Time spent: 14.69s\n"
     ]
    }
   ],
   "source": [
    "# Training by best parameter\n",
    "rfc = RandomForestClassifier(n_estimators=2000, max_depth=20, class_weight='balanced', n_jobs=-1)\n",
    "\n",
    "t1 = time.time()\n",
    "rfc.fit(X_train_scaled, y_train)\n",
    "\n",
    "\n",
    "print('Training performance:')\n",
    "class_metrics(rfc, X_train_scaled, y_train)\n",
    "\n",
    "print('\\n\\nTesting performance:')\n",
    "class_metrics(rfc, X_test_scaled, y_test)\n",
    "t2 = time.time()\n",
    "\n",
    "print('\\n')\n",
    "print(f'Time spent: {round(t2-t1, 2)}s')\n",
    "\n",
    "y_pred = rfc.predict(X_test_scaled)\n",
    "accuracy = accuracy_score(y_test, y_pred)\n",
    "comp = comp.append({'Algorithm':'RandomForest', 'Accuracy':accuracy, 'Time spent':round(t2-t1, 2)}, \n",
    "                   ignore_index=True)"
   ]
  },
  {
   "cell_type": "markdown",
   "metadata": {},
   "source": [
    "Slightly overfitting for Random Forest Classifier"
   ]
  },
  {
   "cell_type": "markdown",
   "metadata": {},
   "source": [
    "### AdaBoost"
   ]
  },
  {
   "cell_type": "code",
   "execution_count": 29,
   "metadata": {
    "scrolled": true
   },
   "outputs": [
    {
     "name": "stdout",
     "output_type": "stream",
     "text": [
      "Training performance:\n",
      "              precision    recall  f1-score   support\n",
      "\n",
      "       <=50K       0.86      0.92      0.89     18148\n",
      "        >50K       0.70      0.56      0.62      5963\n",
      "\n",
      "    accuracy                           0.83     24111\n",
      "   macro avg       0.78      0.74      0.76     24111\n",
      "weighted avg       0.82      0.83      0.83     24111\n",
      "\n",
      "               Actual <=50K  Actual >50K\n",
      "Predict <=50K      0.693999     0.108789\n",
      "Predict >50K       0.058687     0.138526\n",
      "\n",
      "\n",
      "Testing performance:\n",
      "              precision    recall  f1-score   support\n",
      "\n",
      "       <=50K       0.87      0.92      0.89      4485\n",
      "        >50K       0.72      0.58      0.65      1543\n",
      "\n",
      "    accuracy                           0.84      6028\n",
      "   macro avg       0.79      0.75      0.77      6028\n",
      "weighted avg       0.83      0.84      0.83      6028\n",
      "\n",
      "               Actual <=50K  Actual >50K\n",
      "Predict <=50K      0.686795     0.106337\n",
      "Predict >50K       0.057233     0.149635\n",
      "\n",
      "\n",
      "Time spent: 1.11s\n"
     ]
    }
   ],
   "source": [
    "# Training by default setting\n",
    "ada = AdaBoostClassifier()\n",
    "\n",
    "t1 = time.time()\n",
    "ada.fit(X_train_scaled, y_train)\n",
    "\n",
    "\n",
    "print('Training performance:')\n",
    "class_metrics(ada, X_train_scaled, y_train)\n",
    "\n",
    "print('\\n\\nTesting performance:')\n",
    "class_metrics(ada, X_test_scaled, y_test)\n",
    "t2 = time.time()\n",
    "\n",
    "print('\\n')\n",
    "print(f'Time spent: {round(t2-t1, 2)}s')"
   ]
  },
  {
   "cell_type": "code",
   "execution_count": 30,
   "metadata": {},
   "outputs": [
    {
     "name": "stdout",
     "output_type": "stream",
     "text": [
      "Best parameter: {'n_estimators': 50}\n",
      "Best accuracy score: 0.8320264260062882\n"
     ]
    }
   ],
   "source": [
    "# Hyperparameter tuning\n",
    "params = {'n_estimators':[50, 100, 200, 500]}\n",
    "grid = GridSearchCV(estimator=ada, param_grid = params, scoring='accuracy', n_jobs=-1, cv=10)\n",
    "grid.fit(X_train_scaled, y_train)\n",
    "print(f'Best parameter: {grid.best_params_}')\n",
    "print(f'Best accuracy score: {grid.best_score_}')"
   ]
  },
  {
   "cell_type": "code",
   "execution_count": 14,
   "metadata": {
    "scrolled": true
   },
   "outputs": [
    {
     "name": "stdout",
     "output_type": "stream",
     "text": [
      "Training performance:\n",
      "              precision    recall  f1-score   support\n",
      "\n",
      "       <=50K       0.86      0.92      0.89     18148\n",
      "        >50K       0.70      0.56      0.62      5963\n",
      "\n",
      "    accuracy                           0.83     24111\n",
      "   macro avg       0.78      0.74      0.76     24111\n",
      "weighted avg       0.82      0.83      0.83     24111\n",
      "\n",
      "               Actual <=50K  Actual >50K\n",
      "Predict <=50K      0.693999     0.108789\n",
      "Predict >50K       0.058687     0.138526\n",
      "\n",
      "\n",
      "Testing performance:\n",
      "              precision    recall  f1-score   support\n",
      "\n",
      "       <=50K       0.87      0.92      0.89      4485\n",
      "        >50K       0.72      0.58      0.65      1543\n",
      "\n",
      "    accuracy                           0.84      6028\n",
      "   macro avg       0.79      0.75      0.77      6028\n",
      "weighted avg       0.83      0.84      0.83      6028\n",
      "\n",
      "               Actual <=50K  Actual >50K\n",
      "Predict <=50K      0.686795     0.106337\n",
      "Predict >50K       0.057233     0.149635\n",
      "\n",
      "\n",
      "Time spent: 1.15s\n"
     ]
    }
   ],
   "source": [
    "# Training by best parameter\n",
    "ada = AdaBoostClassifier(n_estimators=50)\n",
    "\n",
    "t1 = time.time()\n",
    "ada.fit(X_train_scaled, y_train)\n",
    "\n",
    "\n",
    "print('Training performance:')\n",
    "class_metrics(ada, X_train_scaled, y_train)\n",
    "\n",
    "print('\\n\\nTesting performance:')\n",
    "class_metrics(ada, X_test_scaled, y_test)\n",
    "t2 = time.time()\n",
    "\n",
    "print('\\n')\n",
    "print(f'Time spent: {round(t2-t1, 2)}s')\n",
    "\n",
    "y_pred = ada.predict(X_test_scaled)\n",
    "accuracy = accuracy_score(y_test, y_pred)\n",
    "comp = comp.append({'Algorithm':'AdaBoost', 'Accuracy':accuracy, 'Time spent':round(t2-t1, 2)}, \n",
    "                   ignore_index=True)"
   ]
  },
  {
   "cell_type": "markdown",
   "metadata": {},
   "source": [
    "### XGBoost"
   ]
  },
  {
   "cell_type": "code",
   "execution_count": 16,
   "metadata": {
    "scrolled": true
   },
   "outputs": [
    {
     "name": "stdout",
     "output_type": "stream",
     "text": [
      "Training performance:\n",
      "              precision    recall  f1-score   support\n",
      "\n",
      "       <=50K       0.90      0.93      0.92     18148\n",
      "        >50K       0.77      0.69      0.73      5963\n",
      "\n",
      "    accuracy                           0.87     24111\n",
      "   macro avg       0.84      0.81      0.82     24111\n",
      "weighted avg       0.87      0.87      0.87     24111\n",
      "\n",
      "               Actual <=50K  Actual >50K\n",
      "Predict <=50K      0.701879     0.077019\n",
      "Predict >50K       0.050807     0.170296\n",
      "\n",
      "\n",
      "Testing performance:\n",
      "              precision    recall  f1-score   support\n",
      "\n",
      "       <=50K       0.87      0.91      0.89      4485\n",
      "        >50K       0.70      0.61      0.65      1543\n",
      "\n",
      "    accuracy                           0.83      6028\n",
      "   macro avg       0.79      0.76      0.77      6028\n",
      "weighted avg       0.83      0.83      0.83      6028\n",
      "\n",
      "               Actual <=50K  Actual >50K\n",
      "Predict <=50K      0.678334     0.100697\n",
      "Predict >50K       0.065693     0.155275\n",
      "\n",
      "\n",
      "Time spent: 1.47s\n"
     ]
    }
   ],
   "source": [
    "# Training by default setting\n",
    "xgb = XGBClassifier()\n",
    "\n",
    "t1 = time.time()\n",
    "xgb.fit(X_train_scaled, y_train)\n",
    "\n",
    "\n",
    "print('Training performance:')\n",
    "class_metrics(xgb, X_train_scaled, y_train)\n",
    "\n",
    "print('\\n\\nTesting performance:')\n",
    "class_metrics(xgb, X_test_scaled, y_test)\n",
    "t2 = time.time()\n",
    "\n",
    "print('\\n')\n",
    "print(f'Time spent: {round(t2-t1, 2)}s')"
   ]
  },
  {
   "cell_type": "code",
   "execution_count": 9,
   "metadata": {},
   "outputs": [
    {
     "name": "stdout",
     "output_type": "stream",
     "text": [
      "Best parameter: {'max_depth': 5, 'min_child_weight': 9, 'n_estimators': 100}\n",
      "Best accuracy score: 0.8392429185470409\n"
     ]
    }
   ],
   "source": [
    "# Hyperparameter tuning: n_estimators, max_depth, min_child_weight\n",
    "\n",
    "xgb = XGBClassifier(eta=0.1, seed=42)\n",
    "params = {'n_estimators':[10, 50, 100, 200],\n",
    "         \"max_depth\": range(3, 10, 2),\n",
    "         \"min_child_weight\": range(1, 10, 2)}\n",
    "\n",
    "grid = GridSearchCV(estimator=xgb, param_grid = params, scoring='accuracy', n_jobs=-1, cv=10)\n",
    "grid.fit(X_train_scaled, y_train)\n",
    "print(f'Best parameter: {grid.best_params_}')\n",
    "print(f'Best accuracy score: {grid.best_score_}')"
   ]
  },
  {
   "cell_type": "code",
   "execution_count": 9,
   "metadata": {},
   "outputs": [
    {
     "name": "stdout",
     "output_type": "stream",
     "text": [
      "Best parameter: {'colsample_bytree': 1, 'gamma': 0, 'subsample': 1}\n",
      "Best accuracy score: 0.8392429185470409\n"
     ]
    }
   ],
   "source": [
    "# Hyperparameter tuning: gamma, subsample & colsample_bytree\n",
    "xgb = XGBClassifier(eta=0.1, n_estimators=100, max_depth=5, min_child_weight=9, seed=42)\n",
    "params = {\"gamma\": [0, 0.1, 0.2, 0.3, 0.4],\n",
    "         \"subsample\": [0.6, 0.7, 0.8, 0.9, 1],\n",
    "         \"colsample_bytree\": [0.6, 0.7, 0.8, 0.9, 1]}\n",
    "\n",
    "grid = GridSearchCV(estimator=xgb, param_grid = params, scoring='accuracy', n_jobs=-1, cv=10)\n",
    "grid.fit(X_train_scaled, y_train)\n",
    "print(f'Best parameter: {grid.best_params_}')\n",
    "print(f'Best accuracy score: {grid.best_score_}')"
   ]
  },
  {
   "cell_type": "code",
   "execution_count": 15,
   "metadata": {},
   "outputs": [
    {
     "name": "stdout",
     "output_type": "stream",
     "text": [
      "Training performance:\n",
      "              precision    recall  f1-score   support\n",
      "\n",
      "       <=50K       0.88      0.92      0.90     18148\n",
      "        >50K       0.72      0.60      0.66      5963\n",
      "\n",
      "    accuracy                           0.85     24111\n",
      "   macro avg       0.80      0.76      0.78     24111\n",
      "weighted avg       0.84      0.85      0.84     24111\n",
      "\n",
      "               Actual <=50K  Actual >50K\n",
      "Predict <=50K      0.695948     0.097839\n",
      "Predict >50K       0.056738     0.149475\n",
      "\n",
      "\n",
      "Testing performance:\n",
      "              precision    recall  f1-score   support\n",
      "\n",
      "       <=50K       0.87      0.92      0.90      4485\n",
      "        >50K       0.73      0.59      0.65      1543\n",
      "\n",
      "    accuracy                           0.84      6028\n",
      "   macro avg       0.80      0.76      0.77      6028\n",
      "weighted avg       0.83      0.84      0.83      6028\n",
      "\n",
      "               Actual <=50K  Actual >50K\n",
      "Predict <=50K      0.687790     0.104180\n",
      "Predict >50K       0.056238     0.151792\n",
      "\n",
      "\n",
      "Time spent: 1.52s\n"
     ]
    }
   ],
   "source": [
    "# Training by best parameter\n",
    "xgb = XGBClassifier(eta=0.1, n_estimators=100, max_depth=5, min_child_weight=9, \n",
    "                    gamma=0, subsample=1, colsample_bytree=1, seed=42)\n",
    "\n",
    "t1 = time.time()\n",
    "xgb.fit(X_train_scaled, y_train)\n",
    "\n",
    "\n",
    "print('Training performance:')\n",
    "class_metrics(xgb, X_train_scaled, y_train)\n",
    "\n",
    "print('\\n\\nTesting performance:')\n",
    "class_metrics(xgb, X_test_scaled, y_test)\n",
    "t2 = time.time()\n",
    "\n",
    "print('\\n')\n",
    "print(f'Time spent: {round(t2-t1, 2)}s')\n",
    "\n",
    "y_pred = xgb.predict(X_test_scaled)\n",
    "accuracy = accuracy_score(y_test, y_pred)\n",
    "comp = comp.append({'Algorithm':'XGBoost', 'Accuracy':accuracy, 'Time spent':round(t2-t1, 2)}, \n",
    "                   ignore_index=True)"
   ]
  },
  {
   "cell_type": "markdown",
   "metadata": {},
   "source": [
    "## Comparison within different models"
   ]
  },
  {
   "cell_type": "code",
   "execution_count": 16,
   "metadata": {},
   "outputs": [
    {
     "data": {
      "text/html": [
       "<div>\n",
       "<style scoped>\n",
       "    .dataframe tbody tr th:only-of-type {\n",
       "        vertical-align: middle;\n",
       "    }\n",
       "\n",
       "    .dataframe tbody tr th {\n",
       "        vertical-align: top;\n",
       "    }\n",
       "\n",
       "    .dataframe thead th {\n",
       "        text-align: right;\n",
       "    }\n",
       "</style>\n",
       "<table border=\"1\" class=\"dataframe\">\n",
       "  <thead>\n",
       "    <tr style=\"text-align: right;\">\n",
       "      <th></th>\n",
       "      <th>Accuracy</th>\n",
       "      <th>Time spent</th>\n",
       "    </tr>\n",
       "    <tr>\n",
       "      <th>Algorithm</th>\n",
       "      <th></th>\n",
       "      <th></th>\n",
       "    </tr>\n",
       "  </thead>\n",
       "  <tbody>\n",
       "    <tr>\n",
       "      <th>Logistic</th>\n",
       "      <td>0.793796</td>\n",
       "      <td>0.20</td>\n",
       "    </tr>\n",
       "    <tr>\n",
       "      <th>KNN</th>\n",
       "      <td>0.827638</td>\n",
       "      <td>13.43</td>\n",
       "    </tr>\n",
       "    <tr>\n",
       "      <th>RandomForest</th>\n",
       "      <td>0.819841</td>\n",
       "      <td>14.69</td>\n",
       "    </tr>\n",
       "    <tr>\n",
       "      <th>AdaBoost</th>\n",
       "      <td>0.836430</td>\n",
       "      <td>1.15</td>\n",
       "    </tr>\n",
       "    <tr>\n",
       "      <th>XGBoost</th>\n",
       "      <td>0.839582</td>\n",
       "      <td>1.52</td>\n",
       "    </tr>\n",
       "  </tbody>\n",
       "</table>\n",
       "</div>"
      ],
      "text/plain": [
       "              Accuracy  Time spent\n",
       "Algorithm                         \n",
       "Logistic      0.793796        0.20\n",
       "KNN           0.827638       13.43\n",
       "RandomForest  0.819841       14.69\n",
       "AdaBoost      0.836430        1.15\n",
       "XGBoost       0.839582        1.52"
      ]
     },
     "execution_count": 16,
     "metadata": {},
     "output_type": "execute_result"
    }
   ],
   "source": [
    "# Save the comparison for further use\n",
    "comp.to_csv('comparison2.csv')\n",
    "comp.set_index('Algorithm', drop=True)"
   ]
  },
  {
   "cell_type": "code",
   "execution_count": 17,
   "metadata": {},
   "outputs": [
    {
     "data": {
      "image/png": "[encoded data removed]",
      "text/plain": [
       "<Figure size 432x288 with 1 Axes>"
      ]
     },
     "metadata": {
      "needs_background": "light"
     },
     "output_type": "display_data"
    }
   ],
   "source": [
    "sns.barplot(x=comp['Algorithm'], y=comp['Accuracy'])\n",
    "plt.title('Accuracy for each algorithm')\n",
    "plt.show()"
   ]
  }
 ],
 "metadata": {
  "kernelspec": {
   "display_name": "Python 3",
   "language": "python",
   "name": "python3"
  },
  "language_info": {
   "codemirror_mode": {
    "name": "ipython",
    "version": 3
   },
   "file_extension": ".py",
   "mimetype": "text/x-python",
   "name": "python",
   "nbconvert_exporter": "python",
   "pygments_lexer": "ipython3",
   "version": "3.8.5"
  }
 },
 "nbformat": 4,
 "nbformat_minor": 4
}
